{
 "cells": [
  {
   "cell_type": "code",
   "execution_count": 1,
   "id": "forced-myanmar",
   "metadata": {},
   "outputs": [],
   "source": [
    "from pyspark.sql import SparkSession\n",
    "import os\n",
    "from search import Search\n",
    "from plotting import Plotting\n",
    "\n",
    "os.environ[\"PYTHONUNBUFFERED\"] = \"1\"\n",
    "os.environ[\"PYSPARK_PYTHON\"] = \"/usr/bin/python3\"\n",
    "os.environ[\"PYSPARK_DRIVER_PYTHON\"] = \"/usr/bin/python3\""
   ]
  },
  {
   "cell_type": "code",
   "execution_count": 2,
   "id": "turkish-impression",
   "metadata": {},
   "outputs": [],
   "source": [
    "def read(spark):\n",
    "    datasets = {}\n",
    "    for dataset in os.listdir(\"./ml-latest-small\"):\n",
    "        data = spark.read.option(\"header\", True).format(\"csv\").load(os.path.join(os.getcwd(),\"ml-latest-small\",dataset))\n",
    "        datasets[dataset.split('.')[0]]=data\n",
    "    return datasets"
   ]
  },
  {
   "cell_type": "code",
   "execution_count": 3,
   "id": "bridal-begin",
   "metadata": {},
   "outputs": [],
   "source": [
    "spark = SparkSession.builder.master(\"local\").appName(\"Movies\").config(\"conf-key\", \"conf-value\").getOrCreate()\n",
    "datasets = read(spark)"
   ]
  },
  {
   "cell_type": "code",
   "execution_count": 4,
   "id": "disciplinary-judge",
   "metadata": {},
   "outputs": [],
   "source": [
    "plotting = Plotting(datasets, spark)\n",
    "search = Search(datasets, spark)"
   ]
  },
  {
   "cell_type": "markdown",
   "id": "respective-interval",
   "metadata": {},
   "source": [
    "Search user by id, show the number of movies/genre that he/she has watched"
   ]
  },
  {
   "cell_type": "code",
   "execution_count": 5,
   "id": "stable-surgery",
   "metadata": {},
   "outputs": [],
   "source": [
    "# search.search_user_movies('1')"
   ]
  },
  {
   "cell_type": "code",
   "execution_count": 6,
   "id": "modern-algeria",
   "metadata": {},
   "outputs": [],
   "source": [
    "# search.search_user_genre('1').show()"
   ]
  },
  {
   "cell_type": "markdown",
   "id": "informal-liberia",
   "metadata": {},
   "source": [
    "Given a list of users, search all movies watched by each user"
   ]
  },
  {
   "cell_type": "code",
   "execution_count": 7,
   "id": "ancient-device",
   "metadata": {},
   "outputs": [],
   "source": [
    "# [i.show() for i in search.search_users_movies([\"1\",\"2\",\"3\"])]"
   ]
  },
  {
   "cell_type": "markdown",
   "id": "sudden-establishment",
   "metadata": {},
   "source": [
    "Search movie by id/title, show the average rating, the number of users that have\n",
    "watched the movie"
   ]
  },
  {
   "cell_type": "code",
   "execution_count": 8,
   "id": "trying-garlic",
   "metadata": {},
   "outputs": [],
   "source": [
    "# search.search_movie(id=\"1\").show()"
   ]
  },
  {
   "cell_type": "code",
   "execution_count": 9,
   "id": "absent-paris",
   "metadata": {},
   "outputs": [],
   "source": [
    "# search.search_movie(name=\"Toy Story\").show()"
   ]
  },
  {
   "cell_type": "markdown",
   "id": "excess-flower",
   "metadata": {},
   "source": [
    "Search genre, show all movies in that genre"
   ]
  },
  {
   "cell_type": "code",
   "execution_count": 10,
   "id": "charged-elephant",
   "metadata": {},
   "outputs": [],
   "source": [
    "# search.search_genre(\"Action\").show(10,False)"
   ]
  },
  {
   "cell_type": "markdown",
   "id": "inside-collar",
   "metadata": {},
   "source": [
    "Given a list of genres, search all movies belonging to each genre"
   ]
  },
  {
   "cell_type": "code",
   "execution_count": 11,
   "id": "electoral-classics",
   "metadata": {},
   "outputs": [],
   "source": [
    "# [i.show(3, False) for i in search.search_genres([\"Action\",\"Romance\"])]\n",
    "# search.search_genres([\"Action\",\"Romance\"]).show()"
   ]
  },
  {
   "cell_type": "markdown",
   "id": "sought-modification",
   "metadata": {},
   "source": [
    "Search movies by year"
   ]
  },
  {
   "cell_type": "code",
   "execution_count": 12,
   "id": "tribal-slope",
   "metadata": {},
   "outputs": [],
   "source": [
    "# search.search_movie_year(\"1995\").show(10,False)"
   ]
  },
  {
   "cell_type": "markdown",
   "id": "controlled-paraguay",
   "metadata": {},
   "source": [
    "List the top n movies with highest rating, ordered by the rating"
   ]
  },
  {
   "cell_type": "code",
   "execution_count": 13,
   "id": "collect-compromise",
   "metadata": {},
   "outputs": [],
   "source": [
    "# search.list_rating(5)"
   ]
  },
  {
   "cell_type": "markdown",
   "id": "worthy-exchange",
   "metadata": {},
   "source": [
    "List the top n movies with the highest number of watches, ordered by the number of\n",
    "watches"
   ]
  },
  {
   "cell_type": "code",
   "execution_count": 14,
   "id": "expired-andorra",
   "metadata": {},
   "outputs": [],
   "source": [
    "# search.list_watches(5)"
   ]
  },
  {
   "cell_type": "markdown",
   "id": "geographic-wonder",
   "metadata": {},
   "source": [
    "Find the favourite genre of a given user, or group of users. Consider and justify how\n",
    "you will define ‘favourite’."
   ]
  },
  {
   "cell_type": "code",
   "execution_count": 15,
   "id": "offensive-occasions",
   "metadata": {},
   "outputs": [],
   "source": [
    "# search.search_user_favourites(\"1\").show(10,False)"
   ]
  },
  {
   "cell_type": "markdown",
   "id": "individual-individual",
   "metadata": {},
   "source": [
    "Compare the movie tastes of two users. Consider and justify how you will compare\n",
    "and present the data."
   ]
  },
  {
   "cell_type": "code",
   "execution_count": 16,
   "id": "random-allen",
   "metadata": {},
   "outputs": [
    {
     "name": "stdout",
     "output_type": "stream",
     "text": [
      "user a:  232\n",
      "+-------+-------+\n",
      "|movieId|ratingA|\n",
      "+-------+-------+\n",
      "|      1|    4.0|\n",
      "|      3|    4.0|\n",
      "|      6|    4.0|\n",
      "|     47|    5.0|\n",
      "|     50|    5.0|\n",
      "+-------+-------+\n",
      "\n",
      "user b:  29\n",
      "+-------+-------+\n",
      "|movieId|ratingB|\n",
      "+-------+-------+\n",
      "|    318|    3.0|\n",
      "|    333|    4.0|\n",
      "|   1704|    4.5|\n",
      "|   3578|    4.0|\n",
      "|   6874|    4.0|\n",
      "+-------+-------+\n",
      "\n",
      "+-------+-------+-------+\n",
      "|movieId|ratingA|ratingB|\n",
      "+-------+-------+-------+\n",
      "|    333|    5.0|    4.0|\n",
      "|   3578|    5.0|    4.0|\n",
      "+-------+-------+-------+\n",
      "\n",
      "4.366379310344827\n",
      "3.9482758620689653\n",
      "+-------+-------+-------+--------------------+--------------------+\n",
      "|movieId|ratingA|ratingB|ratingA-avg(ratingA)|ratingB-avg(ratingB)|\n",
      "+-------+-------+-------+--------------------+--------------------+\n",
      "|    333|    5.0|    4.0|  0.6336206896551726|  0.0517241379310347|\n",
      "|   3578|    5.0|    4.0|  0.6336206896551726|  0.0517241379310347|\n",
      "+-------+-------+-------+--------------------+--------------------+\n",
      "\n",
      "+-------------------+\n",
      "|          numerator|\n",
      "+-------------------+\n",
      "|0.06554696789536295|\n",
      "+-------------------+\n",
      "\n",
      "+------------------+\n",
      "|            denom1|\n",
      "+------------------+\n",
      "|0.8960749727105389|\n",
      "+------------------+\n",
      "\n",
      "+-------------------+\n",
      "|             denom2|\n",
      "+-------------------+\n",
      "|0.07314897736412591|\n",
      "+-------------------+\n",
      "\n",
      "+-------------------+\n",
      "|              denom|\n",
      "+-------------------+\n",
      "|0.06554696789536296|\n",
      "+-------------------+\n",
      "\n",
      "+------------------+\n",
      "|        similarity|\n",
      "+------------------+\n",
      "|0.9999999999999998|\n",
      "+------------------+\n",
      "\n",
      "user a:  600\n",
      "+-------+-------+\n",
      "|movieId|ratingA|\n",
      "+-------+-------+\n",
      "|      1|    4.0|\n",
      "|      2|    4.0|\n",
      "|      3|    3.0|\n",
      "|     19|    3.0|\n",
      "|     24|    4.0|\n",
      "+-------+-------+\n",
      "\n",
      "user b:  1302\n",
      "+-------+-------+\n",
      "|movieId|ratingB|\n",
      "+-------+-------+\n",
      "|      1|    5.0|\n",
      "|      6|    5.0|\n",
      "|     16|    4.5|\n",
      "|     32|    4.5|\n",
      "|     47|    5.0|\n",
      "+-------+-------+\n",
      "\n",
      "+-------+-------+-------+\n",
      "|movieId|ratingA|ratingB|\n",
      "+-------+-------+-------+\n",
      "|      1|    4.0|    5.0|\n",
      "|     32|    4.5|    4.5|\n",
      "|     47|    4.0|    5.0|\n",
      "|    231|    3.5|    4.0|\n",
      "|    260|    4.5|    5.0|\n",
      "|    296|    4.5|    5.0|\n",
      "|    318|    5.0|    3.0|\n",
      "|    344|    3.0|    3.0|\n",
      "|    356|    5.0|    3.0|\n",
      "|    367|    1.0|    3.5|\n",
      "|    377|    3.0|    5.0|\n",
      "|    441|    4.0|    5.0|\n",
      "|    457|    5.0|    4.5|\n",
      "|    480|    4.0|    5.0|\n",
      "|    527|    4.5|    3.5|\n",
      "|    541|    5.0|    5.0|\n",
      "|    589|    5.0|    5.0|\n",
      "|    593|    5.0|    4.5|\n",
      "|    608|    4.5|    4.5|\n",
      "|    741|    4.5|    4.5|\n",
      "+-------+-------+-------+\n",
      "only showing top 20 rows\n",
      "\n",
      "3.736666666666667\n",
      "3.6885560675883258\n",
      "+-------+-------+-------+--------------------+--------------------+\n",
      "|movieId|ratingA|ratingB|ratingA-avg(ratingA)|ratingB-avg(ratingB)|\n",
      "+-------+-------+-------+--------------------+--------------------+\n",
      "|      1|    4.0|    5.0|  0.2633333333333332|  1.3114439324116742|\n",
      "|     32|    4.5|    4.5|  0.7633333333333332|  0.8114439324116742|\n",
      "|     47|    4.0|    5.0|  0.2633333333333332|  1.3114439324116742|\n",
      "|    231|    3.5|    4.0| -0.2366666666666668| 0.31144393241167423|\n",
      "|    260|    4.5|    5.0|  0.7633333333333332|  1.3114439324116742|\n",
      "|    296|    4.5|    5.0|  0.7633333333333332|  1.3114439324116742|\n",
      "|    318|    5.0|    3.0|  1.2633333333333332| -0.6885560675883258|\n",
      "|    344|    3.0|    3.0| -0.7366666666666668| -0.6885560675883258|\n",
      "|    356|    5.0|    3.0|  1.2633333333333332| -0.6885560675883258|\n",
      "|    367|    1.0|    3.5|  -2.736666666666667|-0.18855606758832577|\n",
      "|    377|    3.0|    5.0| -0.7366666666666668|  1.3114439324116742|\n",
      "|    441|    4.0|    5.0|  0.2633333333333332|  1.3114439324116742|\n",
      "|    457|    5.0|    4.5|  1.2633333333333332|  0.8114439324116742|\n",
      "|    480|    4.0|    5.0|  0.2633333333333332|  1.3114439324116742|\n",
      "|    527|    4.5|    3.5|  0.7633333333333332|-0.18855606758832577|\n",
      "|    541|    5.0|    5.0|  1.2633333333333332|  1.3114439324116742|\n",
      "|    589|    5.0|    5.0|  1.2633333333333332|  1.3114439324116742|\n",
      "|    593|    5.0|    4.5|  1.2633333333333332|  0.8114439324116742|\n",
      "|    608|    4.5|    4.5|  0.7633333333333332|  0.8114439324116742|\n",
      "|    741|    4.5|    4.5|  0.7633333333333332|  0.8114439324116742|\n",
      "+-------+-------+-------+--------------------+--------------------+\n",
      "only showing top 20 rows\n",
      "\n",
      "+-----------------+\n",
      "|        numerator|\n",
      "+-----------------+\n",
      "|81.90647081413213|\n",
      "+-----------------+\n",
      "\n",
      "+------------------+\n",
      "|            denom1|\n",
      "+------------------+\n",
      "|13.095445773244991|\n",
      "+------------------+\n",
      "\n",
      "+------------------+\n",
      "|            denom2|\n",
      "+------------------+\n",
      "|13.630424625000543|\n",
      "+------------------+\n",
      "\n",
      "+------------------+\n",
      "|             denom|\n",
      "+------------------+\n",
      "|178.49648654299781|\n",
      "+------------------+\n",
      "\n",
      "+-------------------+\n",
      "|         similarity|\n",
      "+-------------------+\n",
      "|0.45886881249285416|\n",
      "+-------------------+\n",
      "\n",
      "user a:  232\n",
      "+-------+-------+\n",
      "|movieId|ratingA|\n",
      "+-------+-------+\n",
      "|      1|    4.0|\n",
      "|      3|    4.0|\n",
      "|      6|    4.0|\n",
      "|     47|    5.0|\n",
      "|     50|    5.0|\n",
      "+-------+-------+\n",
      "\n",
      "user b:  232\n",
      "+-------+-------+\n",
      "|movieId|ratingB|\n",
      "+-------+-------+\n",
      "|      1|    4.0|\n",
      "|      3|    4.0|\n",
      "|      6|    4.0|\n",
      "|     47|    5.0|\n",
      "|     50|    5.0|\n",
      "+-------+-------+\n",
      "\n",
      "+-------+-------+-------+\n",
      "|movieId|ratingA|ratingB|\n",
      "+-------+-------+-------+\n",
      "|      1|    4.0|    4.0|\n",
      "|      3|    4.0|    4.0|\n",
      "|      6|    4.0|    4.0|\n",
      "|     47|    5.0|    5.0|\n",
      "|     50|    5.0|    5.0|\n",
      "|     70|    3.0|    3.0|\n",
      "|    101|    5.0|    5.0|\n",
      "|    110|    4.0|    4.0|\n",
      "|    151|    5.0|    5.0|\n",
      "|    157|    5.0|    5.0|\n",
      "|    163|    5.0|    5.0|\n",
      "|    216|    5.0|    5.0|\n",
      "|    223|    3.0|    3.0|\n",
      "|    231|    5.0|    5.0|\n",
      "|    235|    4.0|    4.0|\n",
      "|    260|    5.0|    5.0|\n",
      "|    296|    3.0|    3.0|\n",
      "|    316|    3.0|    3.0|\n",
      "|    333|    5.0|    5.0|\n",
      "|    349|    4.0|    4.0|\n",
      "+-------+-------+-------+\n",
      "only showing top 20 rows\n",
      "\n",
      "4.366379310344827\n",
      "4.366379310344827\n",
      "+-------+-------+-------+--------------------+--------------------+\n",
      "|movieId|ratingA|ratingB|ratingA-avg(ratingA)|ratingB-avg(ratingB)|\n",
      "+-------+-------+-------+--------------------+--------------------+\n",
      "|      1|    4.0|    4.0| -0.3663793103448274| -0.3663793103448274|\n",
      "|      3|    4.0|    4.0| -0.3663793103448274| -0.3663793103448274|\n",
      "|      6|    4.0|    4.0| -0.3663793103448274| -0.3663793103448274|\n",
      "|     47|    5.0|    5.0|  0.6336206896551726|  0.6336206896551726|\n",
      "|     50|    5.0|    5.0|  0.6336206896551726|  0.6336206896551726|\n",
      "|     70|    3.0|    3.0| -1.3663793103448274| -1.3663793103448274|\n",
      "|    101|    5.0|    5.0|  0.6336206896551726|  0.6336206896551726|\n",
      "|    110|    4.0|    4.0| -0.3663793103448274| -0.3663793103448274|\n",
      "|    151|    5.0|    5.0|  0.6336206896551726|  0.6336206896551726|\n",
      "|    157|    5.0|    5.0|  0.6336206896551726|  0.6336206896551726|\n",
      "|    163|    5.0|    5.0|  0.6336206896551726|  0.6336206896551726|\n",
      "|    216|    5.0|    5.0|  0.6336206896551726|  0.6336206896551726|\n",
      "|    223|    3.0|    3.0| -1.3663793103448274| -1.3663793103448274|\n",
      "|    231|    5.0|    5.0|  0.6336206896551726|  0.6336206896551726|\n",
      "|    235|    4.0|    4.0| -0.3663793103448274| -0.3663793103448274|\n",
      "|    260|    5.0|    5.0|  0.6336206896551726|  0.6336206896551726|\n",
      "|    296|    3.0|    3.0| -1.3663793103448274| -1.3663793103448274|\n",
      "|    316|    3.0|    3.0| -1.3663793103448274| -1.3663793103448274|\n",
      "|    333|    5.0|    5.0|  0.6336206896551726|  0.6336206896551726|\n",
      "|    349|    4.0|    4.0| -0.3663793103448274| -0.3663793103448274|\n",
      "+-------+-------+-------+--------------------+--------------------+\n",
      "only showing top 20 rows\n",
      "\n",
      "+------------------+\n",
      "|         numerator|\n",
      "+------------------+\n",
      "|147.85775862068996|\n",
      "+------------------+\n",
      "\n",
      "+------------------+\n",
      "|            denom1|\n",
      "+------------------+\n",
      "|12.159677570589196|\n",
      "+------------------+\n",
      "\n",
      "+------------------+\n",
      "|            denom2|\n",
      "+------------------+\n",
      "|12.159677570589196|\n",
      "+------------------+\n",
      "\n",
      "+------------------+\n",
      "|             denom|\n",
      "+------------------+\n",
      "|147.85775862068996|\n",
      "+------------------+\n",
      "\n",
      "+----------+\n",
      "|similarity|\n",
      "+----------+\n",
      "|       1.0|\n",
      "+----------+\n",
      "\n"
     ]
    },
    {
     "data": {
      "text/plain": "DataFrame[similarity: double]"
     },
     "execution_count": 16,
     "metadata": {},
     "output_type": "execute_result"
    }
   ],
   "source": [
    "search.compare_users(\"1\", \"2\")\n",
    "\n",
    "search.compare_users(\"477\", \"610\")\n",
    "\n",
    "search.compare_users(\"1\", \"1\")"
   ]
  },
  {
   "cell_type": "code",
   "execution_count": 17,
   "id": "going-picnic",
   "metadata": {
    "collapsed": true,
    "jupyter": {
     "outputs_hidden": true
    }
   },
   "outputs": [],
   "source": [
    "# plotting.gen_movies_report()"
   ]
  },
  {
   "cell_type": "code",
   "execution_count": 18,
   "id": "spare-collector",
   "metadata": {
    "collapsed": true,
    "jupyter": {
     "outputs_hidden": true
    }
   },
   "outputs": [],
   "source": [
    "# plotting.gen_user_report(\"1\")"
   ]
  },
  {
   "cell_type": "markdown",
   "id": "legal-spencer",
   "metadata": {},
   "source": [
    "Plot the most watched movies in a given year"
   ]
  },
  {
   "cell_type": "code",
   "execution_count": 19,
   "id": "color-realtor",
   "metadata": {},
   "outputs": [],
   "source": [
    "# plotting.generic_plot(search.filter_year(\"1995\", 10,\"watches\"), 'watches')"
   ]
  },
  {
   "cell_type": "markdown",
   "id": "compound-lover",
   "metadata": {},
   "source": [
    "Plot the most watched movies in a given decade"
   ]
  },
  {
   "cell_type": "code",
   "execution_count": 20,
   "id": "approximate-midnight",
   "metadata": {
    "collapsed": true,
    "jupyter": {
     "outputs_hidden": true
    }
   },
   "outputs": [],
   "source": [
    "# plotting.generic_plot(search.filter_decade(\"199\", 10,\"watches\"), 'watches')"
   ]
  },
  {
   "cell_type": "markdown",
   "id": "brave-chair",
   "metadata": {},
   "source": [
    "Plot the most watched movies of each decade"
   ]
  },
  {
   "cell_type": "code",
   "execution_count": 21,
   "id": "decreased-village",
   "metadata": {
    "collapsed": true,
    "jupyter": {
     "outputs_hidden": true
    }
   },
   "outputs": [],
   "source": [
    "# plotting.generic_plot(search.top_each_decade('watches'), 'watches')"
   ]
  },
  {
   "cell_type": "markdown",
   "id": "european-poker",
   "metadata": {},
   "source": [
    "Plot the most watched movies of all time"
   ]
  },
  {
   "cell_type": "code",
   "execution_count": 22,
   "id": "fixed-genius",
   "metadata": {
    "collapsed": true,
    "jupyter": {
     "outputs_hidden": true
    }
   },
   "outputs": [],
   "source": [
    "# plotting.plot_generic_plotwatches(search.list_watches(10), 'watches')"
   ]
  },
  {
   "cell_type": "markdown",
   "id": "hourly-ballot",
   "metadata": {},
   "source": [
    "Plot the highest rated movies in a given year"
   ]
  },
  {
   "cell_type": "code",
   "execution_count": 23,
   "id": "quick-feature",
   "metadata": {
    "collapsed": true,
    "jupyter": {
     "outputs_hidden": true
    }
   },
   "outputs": [],
   "source": [
    "# plotting.generic_plot(search.filter_year(\"1995\", 10,\"avg(rating)\"),avg(rating))"
   ]
  },
  {
   "cell_type": "markdown",
   "id": "opponent-bullet",
   "metadata": {},
   "source": [
    "Plot the highest rated movies in a given decade"
   ]
  },
  {
   "cell_type": "code",
   "execution_count": 24,
   "id": "missing-prior",
   "metadata": {
    "collapsed": true,
    "jupyter": {
     "outputs_hidden": true
    }
   },
   "outputs": [],
   "source": [
    "# plotting.generic_plot(search.filter_decade(\"199\", 10,\"avg(rating)\"),avg(rating))"
   ]
  },
  {
   "cell_type": "markdown",
   "id": "fourth-wealth",
   "metadata": {},
   "source": [
    "Plot the highest rated movies of each decade"
   ]
  },
  {
   "cell_type": "code",
   "execution_count": 25,
   "id": "lesbian-stationery",
   "metadata": {
    "collapsed": true,
    "jupyter": {
     "outputs_hidden": true
    }
   },
   "outputs": [],
   "source": [
    "# plotting.generic_plot(search.top_each_decade('avg(rating)'),avg(rating))"
   ]
  },
  {
   "cell_type": "markdown",
   "id": "acute-stuart",
   "metadata": {},
   "source": [
    "Plot the highest rated movies of all time"
   ]
  },
  {
   "cell_type": "code",
   "execution_count": 26,
   "id": "played-album",
   "metadata": {},
   "outputs": [],
   "source": [
    "# plotting.generic_plot(search.list_rating(10))"
   ]
  },
  {
   "cell_type": "code",
   "execution_count": 27,
   "id": "ethical-nicholas",
   "metadata": {},
   "outputs": [],
   "source": [
    "# plotting.gen_movie_wordcloud(\"Pulp Fiction\")"
   ]
  },
  {
   "cell_type": "markdown",
   "id": "wired-miami",
   "metadata": {
    "pycharm": {
     "name": "#%% md\n"
    }
   },
   "source": [
    "Recommend movies for a set of users"
   ]
  },
  {
   "cell_type": "code",
   "execution_count": 28,
   "id": "authorized-observation",
   "metadata": {
    "collapsed": false,
    "jupyter": {
     "outputs_hidden": false
    },
    "pycharm": {
     "name": "#%%\n"
    }
   },
   "outputs": [],
   "source": [
    "# search.recommend_n_movies_for_users(5, [\"1\", \"3\", \"47\", \"235\"]).show(truncate=False)"
   ]
  },
  {
   "cell_type": "code",
   "execution_count": 29,
   "id": "charming-channels",
   "metadata": {
    "collapsed": false,
    "jupyter": {
     "outputs_hidden": false
    },
    "pycharm": {
     "name": "#%%\n"
    }
   },
   "outputs": [],
   "source": [
    "# search.recommend_n_movies_for_users(5, [\"1\"]).show(truncate=False)\n"
   ]
  }
 ],
 "metadata": {
  "kernelspec": {
   "name": "pycharm-ac151855",
   "language": "python",
   "display_name": "PyCharm (Spark)"
  },
  "language_info": {
   "codemirror_mode": {
    "name": "ipython",
    "version": 3
   },
   "file_extension": ".py",
   "mimetype": "text/x-python",
   "name": "python",
   "nbconvert_exporter": "python",
   "pygments_lexer": "ipython3",
   "version": "3.7.5"
  }
 },
 "nbformat": 4,
 "nbformat_minor": 5
}