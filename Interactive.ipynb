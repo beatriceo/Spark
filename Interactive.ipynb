{
 "cells": [
  {
   "cell_type": "code",
   "execution_count": 2,
   "metadata": {},
   "outputs": [],
   "source": [
    "from pyspark.sql import SparkSession\n",
    "import os\n",
    "from search import Search\n",
    "from plotting import Plotting\n",
    "\n",
    "os.environ[\"PYTHONUNBUFFERED\"] = \"1\"\n",
    "# os.environ[\"PYSPARK_PYTHON\"] = \"/usr/bin/python3\"\n",
    "# os.environ[\"PYSPARK_DRIVER_PYTHON\"] = \"/usr/bin/python3\""
   ]
  },
  {
   "cell_type": "code",
   "execution_count": 3,
   "metadata": {},
   "outputs": [],
   "source": [
    "def read(spark):\n",
    "    datasets = {}\n",
    "    for dataset in os.listdir(\"./ml-latest-small\"):\n",
    "        data = spark.read.option(\"header\", True).format(\"csv\").load(os.path.join(os.getcwd(),\"ml-latest-small\",dataset))\n",
    "        datasets[dataset.split('.')[0]]=data\n",
    "    return datasets"
   ]
  },
  {
   "cell_type": "code",
   "execution_count": 4,
   "metadata": {},
   "outputs": [],
   "source": [
    "spark = SparkSession.builder.master(\"local\").appName(\"Movies\").config(\"conf-key\", \"conf-value\").getOrCreate()\n",
    "datasets = read(spark)"
   ]
  },
  {
   "cell_type": "code",
   "execution_count": 5,
   "metadata": {},
   "outputs": [],
   "source": [
    "plotting = Plotting(datasets, spark)\n",
    "search = Search(datasets, spark)"
   ]
  },
  {
   "cell_type": "markdown",
   "metadata": {},
   "source": [
    "Search user by id, show the number of movies/genre that he/she has watched"
   ]
  },
  {
   "cell_type": "code",
   "execution_count": 5,
   "metadata": {},
   "outputs": [
    {
     "data": {
      "text/plain": [
       "DataFrame[userId: string, movieId: string, rating: float, timestamp: string, movieId: string, title: string, genres: string]"
      ]
     },
     "execution_count": 5,
     "metadata": {},
     "output_type": "execute_result"
    }
   ],
   "source": [
    "search.search_user_movies('1')"
   ]
  },
  {
   "cell_type": "code",
   "execution_count": 6,
   "metadata": {},
   "outputs": [
    {
     "name": "stdout",
     "output_type": "stream",
     "text": [
      "+---------+------------------+-------+\n",
      "|   genres|       avg(rating)|watches|\n",
      "+---------+------------------+-------+\n",
      "|    Crime| 4.355555555555555|     45|\n",
      "|  Romance|4.3076923076923075|     26|\n",
      "| Thriller|4.1454545454545455|     55|\n",
      "|Adventure|4.3882352941176475|     85|\n",
      "|    Drama| 4.529411764705882|     68|\n",
      "|      War|               4.5|     22|\n",
      "|  Fantasy| 4.297872340425532|     47|\n",
      "|  Mystery| 4.166666666666667|     18|\n",
      "|  Musical| 4.681818181818182|     22|\n",
      "|Animation| 4.689655172413793|     29|\n",
      "|Film-Noir|               5.0|      1|\n",
      "|   Horror|3.4705882352941178|     17|\n",
      "|  Western| 4.285714285714286|      7|\n",
      "|   Comedy|  4.27710843373494|     83|\n",
      "| Children|4.5476190476190474|     42|\n",
      "|   Action| 4.322222222222222|     90|\n",
      "|   Sci-Fi|             4.225|     40|\n",
      "+---------+------------------+-------+\n",
      "\n"
     ]
    }
   ],
   "source": [
    "search.search_user_genre('1').show()"
   ]
  },
  {
   "cell_type": "markdown",
   "metadata": {},
   "source": [
    "Given a list of users, search all movies watched by each user"
   ]
  },
  {
   "cell_type": "code",
   "execution_count": 7,
   "metadata": {},
   "outputs": [
    {
     "name": "stdout",
     "output_type": "stream",
     "text": [
      "+------+-------+------+---------+-------+--------------------+--------------------+\n",
      "|userId|movieId|rating|timestamp|movieId|               title|              genres|\n",
      "+------+-------+------+---------+-------+--------------------+--------------------+\n",
      "|     1|      1|   4.0|964982703|      1|    Toy Story (1995)|Adventure|Animati...|\n",
      "|     1|      3|   4.0|964981247|      3|Grumpier Old Men ...|      Comedy|Romance|\n",
      "|     1|      6|   4.0|964982224|      6|         Heat (1995)|Action|Crime|Thri...|\n",
      "|     1|     47|   5.0|964983815|     47|Seven (a.k.a. Se7...|    Mystery|Thriller|\n",
      "|     1|     50|   5.0|964982931|     50|Usual Suspects, T...|Crime|Mystery|Thr...|\n",
      "|     1|     70|   3.0|964982400|     70|From Dusk Till Da...|Action|Comedy|Hor...|\n",
      "|     1|    101|   5.0|964980868|    101|Bottle Rocket (1996)|Adventure|Comedy|...|\n",
      "|     1|    110|   4.0|964982176|    110|   Braveheart (1995)|    Action|Drama|War|\n",
      "|     1|    151|   5.0|964984041|    151|      Rob Roy (1995)|Action|Drama|Roma...|\n",
      "|     1|    157|   5.0|964984100|    157|Canadian Bacon (1...|          Comedy|War|\n",
      "|     1|    163|   5.0|964983650|    163|    Desperado (1995)|Action|Romance|We...|\n",
      "|     1|    216|   5.0|964981208|    216|Billy Madison (1995)|              Comedy|\n",
      "|     1|    223|   3.0|964980985|    223|       Clerks (1994)|              Comedy|\n",
      "|     1|    231|   5.0|964981179|    231|Dumb & Dumber (Du...|    Adventure|Comedy|\n",
      "|     1|    235|   4.0|964980908|    235|      Ed Wood (1994)|        Comedy|Drama|\n",
      "|     1|    260|   5.0|964981680|    260|Star Wars: Episod...|Action|Adventure|...|\n",
      "|     1|    296|   3.0|964982967|    296| Pulp Fiction (1994)|Comedy|Crime|Dram...|\n",
      "|     1|    316|   3.0|964982310|    316|     Stargate (1994)|Action|Adventure|...|\n",
      "|     1|    333|   5.0|964981179|    333|    Tommy Boy (1995)|              Comedy|\n",
      "|     1|    349|   4.0|964982563|    349|Clear and Present...|Action|Crime|Dram...|\n",
      "+------+-------+------+---------+-------+--------------------+--------------------+\n",
      "only showing top 20 rows\n",
      "\n",
      "+------+-------+------+----------+-------+--------------------+--------------------+\n",
      "|userId|movieId|rating| timestamp|movieId|               title|              genres|\n",
      "+------+-------+------+----------+-------+--------------------+--------------------+\n",
      "|     2|    318|   3.0|1445714835|    318|Shawshank Redempt...|         Crime|Drama|\n",
      "|     2|    333|   4.0|1445715029|    333|    Tommy Boy (1995)|              Comedy|\n",
      "|     2|   1704|   4.5|1445715228|   1704|Good Will Hunting...|       Drama|Romance|\n",
      "|     2|   3578|   4.0|1445714885|   3578|    Gladiator (2000)|Action|Adventure|...|\n",
      "|     2|   6874|   4.0|1445714952|   6874|Kill Bill: Vol. 1...|Action|Crime|Thri...|\n",
      "|     2|   8798|   3.5|1445714960|   8798|   Collateral (2004)|Action|Crime|Dram...|\n",
      "|     2|  46970|   4.0|1445715013|  46970|Talladega Nights:...|       Action|Comedy|\n",
      "|     2|  48516|   4.0|1445715064|  48516|Departed, The (2006)|Crime|Drama|Thriller|\n",
      "|     2|  58559|   4.5|1445715141|  58559|Dark Knight, The ...|Action|Crime|Dram...|\n",
      "|     2|  60756|   5.0|1445714980|  60756|Step Brothers (2008)|              Comedy|\n",
      "|     2|  68157|   4.5|1445715154|  68157|Inglourious Baste...|    Action|Drama|War|\n",
      "|     2|  71535|   3.0|1445714974|  71535|   Zombieland (2009)|Action|Comedy|Horror|\n",
      "|     2|  74458|   4.0|1445714926|  74458|Shutter Island (2...|Drama|Mystery|Thr...|\n",
      "|     2|  77455|   3.0|1445714941|  77455|Exit Through the ...|  Comedy|Documentary|\n",
      "|     2|  79132|   4.0|1445714841|  79132|    Inception (2010)|Action|Crime|Dram...|\n",
      "|     2|  80489|   4.5|1445715340|  80489|    Town, The (2010)|Crime|Drama|Thriller|\n",
      "|     2|  80906|   5.0|1445715172|  80906|   Inside Job (2010)|         Documentary|\n",
      "|     2|  86345|   4.0|1445715166|  86345|Louis C.K.: Hilar...|              Comedy|\n",
      "|     2|  89774|   5.0|1445715189|  89774|      Warrior (2011)|               Drama|\n",
      "|     2|  91529|   3.5|1445714891|  91529|Dark Knight Rises...|Action|Adventure|...|\n",
      "+------+-------+------+----------+-------+--------------------+--------------------+\n",
      "only showing top 20 rows\n",
      "\n",
      "+------+-------+------+----------+-------+--------------------+--------------------+\n",
      "|userId|movieId|rating| timestamp|movieId|               title|              genres|\n",
      "+------+-------+------+----------+-------+--------------------+--------------------+\n",
      "|     3|     31|   0.5|1306463578|     31|Dangerous Minds (...|               Drama|\n",
      "|     3|    527|   0.5|1306464275|    527|Schindler's List ...|           Drama|War|\n",
      "|     3|    647|   0.5|1306463619|    647|Courage Under Fir...|Action|Crime|Dram...|\n",
      "|     3|    688|   0.5|1306464228|    688|Operation Dumbo D...|Action|Adventure|...|\n",
      "|     3|    720|   0.5|1306463595|    720|Wallace & Gromit:...|Adventure|Animati...|\n",
      "|     3|    849|   5.0|1306463611|    849|Escape from L.A. ...|Action|Adventure|...|\n",
      "|     3|    914|   0.5|1306463567|    914| My Fair Lady (1964)|Comedy|Drama|Musi...|\n",
      "|     3|   1093|   0.5|1306463627|   1093|   Doors, The (1991)|               Drama|\n",
      "|     3|   1124|   0.5|1306464216|   1124|On Golden Pond (1...|               Drama|\n",
      "|     3|   1263|   0.5|1306463569|   1263|Deer Hunter, The ...|           Drama|War|\n",
      "|     3|   1272|   0.5|1306463624|   1272|       Patton (1970)|           Drama|War|\n",
      "|     3|   1275|   3.5|1306463323|   1275|   Highlander (1986)|Action|Adventure|...|\n",
      "|     3|   1302|   0.5|1306464189|   1302|Field of Dreams (...|Children|Drama|Fa...|\n",
      "|     3|   1371|   3.0|1306463561|   1371|Star Trek: The Mo...|    Adventure|Sci-Fi|\n",
      "|     3|   1587|   4.5|1306464003|   1587|Conan the Barbari...|Action|Adventure|...|\n",
      "|     3|   2018|   0.5|1306464175|   2018|        Bambi (1942)|Animation|Childre...|\n",
      "|     3|   2080|   0.5|1306463572|   2080|Lady and the Tram...|Animation|Childre...|\n",
      "|     3|   2090|   0.5|1306464261|   2090|Rescuers, The (1977)|Adventure|Animati...|\n",
      "|     3|   2105|   2.0|1306463559|   2105|         Tron (1982)|Action|Adventure|...|\n",
      "|     3|   2288|   4.0|1306463631|   2288|   Thing, The (1982)|Action|Horror|Sci...|\n",
      "+------+-------+------+----------+-------+--------------------+--------------------+\n",
      "only showing top 20 rows\n",
      "\n"
     ]
    },
    {
     "data": {
      "text/plain": [
       "[None, None, None]"
      ]
     },
     "execution_count": 7,
     "metadata": {},
     "output_type": "execute_result"
    }
   ],
   "source": [
    "[i.show() for i in search.search_users_movies([\"1\",\"2\",\"3\"])]"
   ]
  },
  {
   "cell_type": "markdown",
   "metadata": {},
   "source": [
    "Search movie by id/title, show the average rating, the number of users that have\n",
    "watched the movie"
   ]
  },
  {
   "cell_type": "code",
   "execution_count": 8,
   "metadata": {},
   "outputs": [
    {
     "name": "stdout",
     "output_type": "stream",
     "text": [
      "+-------+------------------+--------+----------------+\n",
      "|movieId|       avg(rating)|count(1)|           title|\n",
      "+-------+------------------+--------+----------------+\n",
      "|      1|3.9209302325581397|     215|Toy Story (1995)|\n",
      "+-------+------------------+--------+----------------+\n",
      "\n"
     ]
    }
   ],
   "source": [
    "search.search_movie(id=\"1\").show()"
   ]
  },
  {
   "cell_type": "code",
   "execution_count": 9,
   "metadata": {},
   "outputs": [
    {
     "name": "stdout",
     "output_type": "stream",
     "text": [
      "+-------+------------------+--------+------------------+\n",
      "|movieId|       avg(rating)|count(1)|             title|\n",
      "+-------+------------------+--------+------------------+\n",
      "|   3114|3.8608247422680413|      97|Toy Story 2 (1999)|\n",
      "|      1|3.9209302325581397|     215|  Toy Story (1995)|\n",
      "|  78499| 4.109090909090909|      55|Toy Story 3 (2010)|\n",
      "+-------+------------------+--------+------------------+\n",
      "\n"
     ]
    }
   ],
   "source": [
    "search.search_movie(name=\"Toy Story\").show()"
   ]
  },
  {
   "cell_type": "markdown",
   "metadata": {},
   "source": [
    "Search genre, show all movies in that genre"
   ]
  },
  {
   "cell_type": "code",
   "execution_count": 10,
   "metadata": {},
   "outputs": [
    {
     "name": "stdout",
     "output_type": "stream",
     "text": [
      "+-------+-----------------------------------------+----------------------------------+\n",
      "|movieId|title                                    |genres                            |\n",
      "+-------+-----------------------------------------+----------------------------------+\n",
      "|6      |Heat (1995)                              |Action|Crime|Thriller             |\n",
      "|9      |Sudden Death (1995)                      |Action                            |\n",
      "|10     |GoldenEye (1995)                         |Action|Adventure|Thriller         |\n",
      "|15     |Cutthroat Island (1995)                  |Action|Adventure|Romance          |\n",
      "|20     |Money Train (1995)                       |Action|Comedy|Crime|Drama|Thriller|\n",
      "|23     |Assassins (1995)                         |Action|Crime|Thriller             |\n",
      "|42     |Dead Presidents (1995)                   |Action|Crime|Drama                |\n",
      "|44     |Mortal Kombat (1995)                     |Action|Adventure|Fantasy          |\n",
      "|66     |Lawnmower Man 2: Beyond Cyberspace (1996)|Action|Sci-Fi|Thriller            |\n",
      "|70     |From Dusk Till Dawn (1996)               |Action|Comedy|Horror|Thriller     |\n",
      "+-------+-----------------------------------------+----------------------------------+\n",
      "only showing top 10 rows\n",
      "\n"
     ]
    }
   ],
   "source": [
    "search.search_genre(\"Action\").show(10,False)"
   ]
  },
  {
   "cell_type": "markdown",
   "metadata": {},
   "source": [
    "Given a list of genres, search all movies belonging to each genre"
   ]
  },
  {
   "cell_type": "code",
   "execution_count": 11,
   "metadata": {},
   "outputs": [
    {
     "name": "stdout",
     "output_type": "stream",
     "text": [
      "+-------+-------------------+-------------------------+\n",
      "|movieId|title              |genres                   |\n",
      "+-------+-------------------+-------------------------+\n",
      "|6      |Heat (1995)        |Action|Crime|Thriller    |\n",
      "|9      |Sudden Death (1995)|Action                   |\n",
      "|10     |GoldenEye (1995)   |Action|Adventure|Thriller|\n",
      "+-------+-------------------+-------------------------+\n",
      "only showing top 3 rows\n",
      "\n",
      "+-------+------------------------+--------------------+\n",
      "|movieId|title                   |genres              |\n",
      "+-------+------------------------+--------------------+\n",
      "|3      |Grumpier Old Men (1995) |Comedy|Romance      |\n",
      "|4      |Waiting to Exhale (1995)|Comedy|Drama|Romance|\n",
      "|7      |Sabrina (1995)          |Comedy|Romance      |\n",
      "+-------+------------------------+--------------------+\n",
      "only showing top 3 rows\n",
      "\n"
     ]
    },
    {
     "data": {
      "text/plain": [
       "[None, None]"
      ]
     },
     "execution_count": 11,
     "metadata": {},
     "output_type": "execute_result"
    }
   ],
   "source": [
    "[i.show(3, False) for i in search.search_genres([\"Action\",\"Romance\"])]\n",
    "# search.search_genres([\"Action\",\"Romance\"]).show()"
   ]
  },
  {
   "cell_type": "markdown",
   "metadata": {},
   "source": [
    "Search movies by year"
   ]
  },
  {
   "cell_type": "code",
   "execution_count": 12,
   "metadata": {},
   "outputs": [
    {
     "name": "stdout",
     "output_type": "stream",
     "text": [
      "+-------+----------------------------------+-------------------------------------------+\n",
      "|movieId|title                             |genres                                     |\n",
      "+-------+----------------------------------+-------------------------------------------+\n",
      "|1      |Toy Story (1995)                  |Adventure|Animation|Children|Comedy|Fantasy|\n",
      "|2      |Jumanji (1995)                    |Adventure|Children|Fantasy                 |\n",
      "|3      |Grumpier Old Men (1995)           |Comedy|Romance                             |\n",
      "|4      |Waiting to Exhale (1995)          |Comedy|Drama|Romance                       |\n",
      "|5      |Father of the Bride Part II (1995)|Comedy                                     |\n",
      "|6      |Heat (1995)                       |Action|Crime|Thriller                      |\n",
      "|7      |Sabrina (1995)                    |Comedy|Romance                             |\n",
      "|8      |Tom and Huck (1995)               |Adventure|Children                         |\n",
      "|9      |Sudden Death (1995)               |Action                                     |\n",
      "|10     |GoldenEye (1995)                  |Action|Adventure|Thriller                  |\n",
      "+-------+----------------------------------+-------------------------------------------+\n",
      "only showing top 10 rows\n",
      "\n"
     ]
    }
   ],
   "source": [
    "search.search_movie_year(\"1995\").show(10,False)"
   ]
  },
  {
   "cell_type": "markdown",
   "metadata": {},
   "source": [
    "List the top n movies with highest rating, ordered by the rating"
   ]
  },
  {
   "cell_type": "code",
   "execution_count": 13,
   "metadata": {},
   "outputs": [
    {
     "data": {
      "text/html": [
       "<div>\n",
       "<style scoped>\n",
       "    .dataframe tbody tr th:only-of-type {\n",
       "        vertical-align: middle;\n",
       "    }\n",
       "\n",
       "    .dataframe tbody tr th {\n",
       "        vertical-align: top;\n",
       "    }\n",
       "\n",
       "    .dataframe thead th {\n",
       "        text-align: right;\n",
       "    }\n",
       "</style>\n",
       "<table border=\"1\" class=\"dataframe\">\n",
       "  <thead>\n",
       "    <tr style=\"text-align: right;\">\n",
       "      <th></th>\n",
       "      <th>movieId</th>\n",
       "      <th>avg(rating)</th>\n",
       "      <th>watches</th>\n",
       "      <th>movieId</th>\n",
       "      <th>title</th>\n",
       "      <th>genres</th>\n",
       "    </tr>\n",
       "  </thead>\n",
       "  <tbody>\n",
       "    <tr>\n",
       "      <th>0</th>\n",
       "      <td>53</td>\n",
       "      <td>5.0</td>\n",
       "      <td>2</td>\n",
       "      <td>53</td>\n",
       "      <td>Lamerica (1994)</td>\n",
       "      <td>Adventure|Drama</td>\n",
       "    </tr>\n",
       "    <tr>\n",
       "      <th>1</th>\n",
       "      <td>78836</td>\n",
       "      <td>5.0</td>\n",
       "      <td>2</td>\n",
       "      <td>78836</td>\n",
       "      <td>Enter the Void (2009)</td>\n",
       "      <td>Drama</td>\n",
       "    </tr>\n",
       "    <tr>\n",
       "      <th>2</th>\n",
       "      <td>3473</td>\n",
       "      <td>5.0</td>\n",
       "      <td>2</td>\n",
       "      <td>3473</td>\n",
       "      <td>Jonah Who Will Be 25 in the Year 2000 (Jonas q...</td>\n",
       "      <td>Comedy</td>\n",
       "    </tr>\n",
       "    <tr>\n",
       "      <th>3</th>\n",
       "      <td>99</td>\n",
       "      <td>5.0</td>\n",
       "      <td>2</td>\n",
       "      <td>99</td>\n",
       "      <td>Heidi Fleiss: Hollywood Madam (1995)</td>\n",
       "      <td>Documentary</td>\n",
       "    </tr>\n",
       "    <tr>\n",
       "      <th>4</th>\n",
       "      <td>6442</td>\n",
       "      <td>5.0</td>\n",
       "      <td>2</td>\n",
       "      <td>6442</td>\n",
       "      <td>Belle époque (1992)</td>\n",
       "      <td>Comedy|Romance</td>\n",
       "    </tr>\n",
       "  </tbody>\n",
       "</table>\n",
       "</div>"
      ],
      "text/plain": [
       "  movieId  avg(rating)  watches movieId  \\\n",
       "0      53          5.0        2      53   \n",
       "1   78836          5.0        2   78836   \n",
       "2    3473          5.0        2    3473   \n",
       "3      99          5.0        2      99   \n",
       "4    6442          5.0        2    6442   \n",
       "\n",
       "                                               title           genres  \n",
       "0                                    Lamerica (1994)  Adventure|Drama  \n",
       "1                              Enter the Void (2009)            Drama  \n",
       "2  Jonah Who Will Be 25 in the Year 2000 (Jonas q...           Comedy  \n",
       "3               Heidi Fleiss: Hollywood Madam (1995)      Documentary  \n",
       "4                                Belle époque (1992)   Comedy|Romance  "
      ]
     },
     "execution_count": 13,
     "metadata": {},
     "output_type": "execute_result"
    }
   ],
   "source": [
    "search.list_rating(5)"
   ]
  },
  {
   "cell_type": "markdown",
   "metadata": {},
   "source": [
    "List the top n movies with the highest number of watches, ordered by the number of\n",
    "watches"
   ]
  },
  {
   "cell_type": "code",
   "execution_count": 14,
   "metadata": {},
   "outputs": [
    {
     "data": {
      "text/html": [
       "<div>\n",
       "<style scoped>\n",
       "    .dataframe tbody tr th:only-of-type {\n",
       "        vertical-align: middle;\n",
       "    }\n",
       "\n",
       "    .dataframe tbody tr th {\n",
       "        vertical-align: top;\n",
       "    }\n",
       "\n",
       "    .dataframe thead th {\n",
       "        text-align: right;\n",
       "    }\n",
       "</style>\n",
       "<table border=\"1\" class=\"dataframe\">\n",
       "  <thead>\n",
       "    <tr style=\"text-align: right;\">\n",
       "      <th></th>\n",
       "      <th>movieId</th>\n",
       "      <th>watches</th>\n",
       "      <th>movieId</th>\n",
       "      <th>title</th>\n",
       "      <th>genres</th>\n",
       "    </tr>\n",
       "  </thead>\n",
       "  <tbody>\n",
       "    <tr>\n",
       "      <th>0</th>\n",
       "      <td>356</td>\n",
       "      <td>329</td>\n",
       "      <td>356</td>\n",
       "      <td>Forrest Gump (1994)</td>\n",
       "      <td>Comedy|Drama|Romance|War</td>\n",
       "    </tr>\n",
       "    <tr>\n",
       "      <th>1</th>\n",
       "      <td>318</td>\n",
       "      <td>317</td>\n",
       "      <td>318</td>\n",
       "      <td>Shawshank Redemption, The (1994)</td>\n",
       "      <td>Crime|Drama</td>\n",
       "    </tr>\n",
       "    <tr>\n",
       "      <th>2</th>\n",
       "      <td>296</td>\n",
       "      <td>307</td>\n",
       "      <td>296</td>\n",
       "      <td>Pulp Fiction (1994)</td>\n",
       "      <td>Comedy|Crime|Drama|Thriller</td>\n",
       "    </tr>\n",
       "    <tr>\n",
       "      <th>3</th>\n",
       "      <td>593</td>\n",
       "      <td>279</td>\n",
       "      <td>593</td>\n",
       "      <td>Silence of the Lambs, The (1991)</td>\n",
       "      <td>Crime|Horror|Thriller</td>\n",
       "    </tr>\n",
       "    <tr>\n",
       "      <th>4</th>\n",
       "      <td>2571</td>\n",
       "      <td>278</td>\n",
       "      <td>2571</td>\n",
       "      <td>Matrix, The (1999)</td>\n",
       "      <td>Action|Sci-Fi|Thriller</td>\n",
       "    </tr>\n",
       "  </tbody>\n",
       "</table>\n",
       "</div>"
      ],
      "text/plain": [
       "  movieId  watches movieId                             title  \\\n",
       "0     356      329     356               Forrest Gump (1994)   \n",
       "1     318      317     318  Shawshank Redemption, The (1994)   \n",
       "2     296      307     296               Pulp Fiction (1994)   \n",
       "3     593      279     593  Silence of the Lambs, The (1991)   \n",
       "4    2571      278    2571                Matrix, The (1999)   \n",
       "\n",
       "                        genres  \n",
       "0     Comedy|Drama|Romance|War  \n",
       "1                  Crime|Drama  \n",
       "2  Comedy|Crime|Drama|Thriller  \n",
       "3        Crime|Horror|Thriller  \n",
       "4       Action|Sci-Fi|Thriller  "
      ]
     },
     "execution_count": 14,
     "metadata": {},
     "output_type": "execute_result"
    }
   ],
   "source": [
    "search.list_watches(5)"
   ]
  },
  {
   "cell_type": "markdown",
   "metadata": {},
   "source": [
    "Find the favourite genre of a given user, or group of users. Consider and justify how\n",
    "you will define ‘favourite’."
   ]
  },
  {
   "cell_type": "code",
   "execution_count": 15,
   "metadata": {},
   "outputs": [
    {
     "name": "stdout",
     "output_type": "stream",
     "text": [
      "+---------+------------------+-------+---+---+------------------+\n",
      "|genres   |avg(rating)       |watches|max|min|score             |\n",
      "+---------+------------------+-------+---+---+------------------+\n",
      "|Action   |4.322222222222222 |90     |90 |1  |4.322222222222222 |\n",
      "|Adventure|4.3882352941176475|85     |90 |1  |4.1417052214144086|\n",
      "|Comedy   |4.27710843373494  |83     |90 |1  |3.940706646811967 |\n",
      "|Drama    |4.529411764705882 |68     |90 |1  |3.4097818902842034|\n",
      "|Thriller |4.1454545454545455|55     |90 |1  |2.5152196118488255|\n",
      "|Fantasy  |4.297872340425532 |47     |90 |1  |2.2213722208940956|\n",
      "|Crime    |4.355555555555555 |45     |90 |1  |2.153308364544319 |\n",
      "|Children |4.5476190476190474|42     |90 |1  |2.0949705724986623|\n",
      "|Sci-Fi   |4.225             |40     |90 |1  |1.8514044943820225|\n",
      "|Animation|4.689655172413793 |29     |90 |1  |1.4753971328942268|\n",
      "+---------+------------------+-------+---+---+------------------+\n",
      "only showing top 10 rows\n",
      "\n"
     ]
    }
   ],
   "source": [
    "search.search_user_favourites(\"1\").show(10,False)"
   ]
  },
  {
   "cell_type": "markdown",
   "metadata": {},
   "source": [
    "Compare the movie tastes of two users. Consider and justify how you will compare\n",
    "and present the data."
   ]
  },
  {
   "cell_type": "code",
   "execution_count": 7,
   "metadata": {},
   "outputs": [
    {
     "name": "stdout",
     "output_type": "stream",
     "text": [
      "+------------------+\n",
      "|        similarity|\n",
      "+------------------+\n",
      "|0.0689655172413793|\n",
      "+------------------+\n",
      "\n",
      "+-------------------+\n",
      "|         similarity|\n",
      "+-------------------+\n",
      "|0.18584186905960595|\n",
      "+-------------------+\n",
      "\n",
      "+----------+\n",
      "|similarity|\n",
      "+----------+\n",
      "|       1.0|\n",
      "+----------+\n",
      "\n"
     ]
    }
   ],
   "source": [
    "search.compare_users(\"1\", \"2\").show()\n",
    "\n",
    "search.compare_users(\"477\", \"610\").show()\n",
    "\n",
    "search.compare_users(\"1\", \"1\").show()"
   ]
  },
  {
   "cell_type": "code",
   "execution_count": 6,
   "metadata": {
    "collapsed": true,
    "jupyter": {
     "outputs_hidden": true
    }
   },
   "outputs": [
    {
     "ename": "AttributeError",
     "evalue": "'Plotting' object has no attribute 'gen_movies_report'",
     "output_type": "error",
     "traceback": [
      "\u001b[0;31m---------------------------------------------------------------------------\u001b[0m",
      "\u001b[0;31mAttributeError\u001b[0m                            Traceback (most recent call last)",
      "\u001b[0;32m<ipython-input-6-c845807cf9be>\u001b[0m in \u001b[0;36m<module>\u001b[0;34m\u001b[0m\n\u001b[0;32m----> 1\u001b[0;31m \u001b[0mplotting\u001b[0m\u001b[0;34m.\u001b[0m\u001b[0mgen_movies_report\u001b[0m\u001b[0;34m(\u001b[0m\u001b[0;34m)\u001b[0m\u001b[0;34m\u001b[0m\u001b[0;34m\u001b[0m\u001b[0m\n\u001b[0m",
      "\u001b[0;31mAttributeError\u001b[0m: 'Plotting' object has no attribute 'gen_movies_report'"
     ]
    }
   ],
   "source": [
    "plotting.gen_movies_report()"
   ]
  },
  {
   "cell_type": "code",
   "execution_count": null,
   "metadata": {
    "collapsed": true,
    "jupyter": {
     "outputs_hidden": true
    }
   },
   "outputs": [],
   "source": [
    "plotting.gen_user_report(\"1\")"
   ]
  },
  {
   "cell_type": "markdown",
   "metadata": {},
   "source": [
    "Plot the most watched movies in a given year"
   ]
  },
  {
   "cell_type": "code",
   "execution_count": 9,
   "metadata": {},
   "outputs": [
    {
     "data": {
      "image/png": "[encoded data removed]",
      "text/plain": [
       "<Figure size 1440x720 with 1 Axes>"
      ]
     },
     "metadata": {
      "needs_background": "light"
     },
     "output_type": "display_data"
    }
   ],
   "source": [
    "plotting.generic_plot(search.filter_year(\"1995\", 10,\"watches\"), 'watches')"
   ]
  },
  {
   "cell_type": "markdown",
   "metadata": {},
   "source": [
    "Plot the most watched movies in a given decade"
   ]
  },
  {
   "cell_type": "code",
   "execution_count": 8,
   "metadata": {
    "collapsed": true,
    "jupyter": {
     "outputs_hidden": true
    }
   },
   "outputs": [
    {
     "data": {
      "image/png": "[encoded data removed]",
      "text/plain": [
       "<Figure size 1440x720 with 1 Axes>"
      ]
     },
     "metadata": {
      "needs_background": "light"
     },
     "output_type": "display_data"
    }
   ],
   "source": [
    "plotting.generic_plot(search.filter_decade(\"199\", 10,\"watches\"), 'watches')"
   ]
  },
  {
   "cell_type": "markdown",
   "metadata": {},
   "source": [
    "Plot the most watched movies of each decade"
   ]
  },
  {
   "cell_type": "code",
   "execution_count": 10,
   "metadata": {
    "collapsed": true,
    "jupyter": {
     "outputs_hidden": true
    }
   },
   "outputs": [
    {
     "data": {
      "image/png": "[encoded data removed]",
      "text/plain": [
       "<Figure size 1440x720 with 1 Axes>"
      ]
     },
     "metadata": {
      "needs_background": "light"
     },
     "output_type": "display_data"
    }
   ],
   "source": [
    "plotting.generic_plot(search.top_each_decade('watches'), 'watches')"
   ]
  },
  {
   "cell_type": "markdown",
   "metadata": {},
   "source": [
    "Plot the most watched movies of all time"
   ]
  },
  {
   "cell_type": "code",
   "execution_count": 11,
   "metadata": {
    "collapsed": true,
    "jupyter": {
     "outputs_hidden": true
    }
   },
   "outputs": [
    {
     "ename": "AttributeError",
     "evalue": "'Plotting' object has no attribute 'plot_generic_plotwatches'",
     "output_type": "error",
     "traceback": [
      "\u001b[0;31m---------------------------------------------------------------------------\u001b[0m",
      "\u001b[0;31mAttributeError\u001b[0m                            Traceback (most recent call last)",
      "\u001b[0;32m<ipython-input-11-42c6fa9f4673>\u001b[0m in \u001b[0;36m<module>\u001b[0;34m\u001b[0m\n\u001b[0;32m----> 1\u001b[0;31m \u001b[0mplotting\u001b[0m\u001b[0;34m.\u001b[0m\u001b[0mplot_generic_plotwatches\u001b[0m\u001b[0;34m(\u001b[0m\u001b[0msearch\u001b[0m\u001b[0;34m.\u001b[0m\u001b[0mlist_watches\u001b[0m\u001b[0;34m(\u001b[0m\u001b[0;36m10\u001b[0m\u001b[0;34m)\u001b[0m\u001b[0;34m,\u001b[0m \u001b[0;34m'watches'\u001b[0m\u001b[0;34m)\u001b[0m\u001b[0;34m\u001b[0m\u001b[0;34m\u001b[0m\u001b[0m\n\u001b[0m",
      "\u001b[0;31mAttributeError\u001b[0m: 'Plotting' object has no attribute 'plot_generic_plotwatches'"
     ]
    }
   ],
   "source": [
    "plotting.plot_generic_plotwatches(search.list_watches(10), 'watches')"
   ]
  },
  {
   "cell_type": "markdown",
   "metadata": {},
   "source": [
    "Plot the highest rated movies in a given year"
   ]
  },
  {
   "cell_type": "code",
   "execution_count": null,
   "metadata": {
    "collapsed": true,
    "jupyter": {
     "outputs_hidden": true
    }
   },
   "outputs": [],
   "source": [
    "plotting.generic_plot(search.filter_year(\"1995\", 10,\"avg(rating)\"),avg(rating))"
   ]
  },
  {
   "cell_type": "markdown",
   "metadata": {},
   "source": [
    "Plot the highest rated movies in a given decade"
   ]
  },
  {
   "cell_type": "code",
   "execution_count": null,
   "metadata": {
    "collapsed": true,
    "jupyter": {
     "outputs_hidden": true
    }
   },
   "outputs": [],
   "source": [
    "plotting.generic_plot(search.filter_decade(\"199\", 10,\"avg(rating)\"),avg(rating))"
   ]
  },
  {
   "cell_type": "markdown",
   "metadata": {},
   "source": [
    "Plot the highest rated movies of each decade"
   ]
  },
  {
   "cell_type": "code",
   "execution_count": null,
   "metadata": {
    "collapsed": true,
    "jupyter": {
     "outputs_hidden": true
    }
   },
   "outputs": [],
   "source": [
    "plotting.generic_plot(search.top_each_decade('avg(rating)'),avg(rating))"
   ]
  },
  {
   "cell_type": "markdown",
   "metadata": {},
   "source": [
    "Plot the highest rated movies of all time"
   ]
  },
  {
   "cell_type": "code",
   "execution_count": null,
   "metadata": {},
   "outputs": [],
   "source": [
    "plotting.generic_plot(search.list_rating(10))"
   ]
  },
  {
   "cell_type": "code",
   "execution_count": null,
   "metadata": {},
   "outputs": [],
   "source": [
    "plotting.gen_movie_wordcloud(\"Pulp Fiction\")"
   ]
  },
  {
   "cell_type": "markdown",
   "metadata": {
    "pycharm": {
     "name": "#%% md\n"
    }
   },
   "source": [
    "Recommend movies for a set of users"
   ]
  },
  {
   "cell_type": "code",
   "execution_count": null,
   "metadata": {
    "collapsed": false,
    "jupyter": {
     "outputs_hidden": false
    },
    "pycharm": {
     "name": "#%%\n"
    }
   },
   "outputs": [],
   "source": [
    "search.recommend_n_movies_for_users(5, [\"1\", \"3\", \"47\", \"235\"]).show(truncate=False)"
   ]
  },
  {
   "cell_type": "code",
   "execution_count": null,
   "metadata": {
    "collapsed": false,
    "jupyter": {
     "outputs_hidden": false
    },
    "pycharm": {
     "name": "#%%\n"
    }
   },
   "outputs": [],
   "source": [
    "search.recommend_n_movies_for_users(5, [\"1\"]).show(truncate=False)\n"
   ]
  },
  {
   "cell_type": "code",
   "execution_count": 6,
   "metadata": {},
   "outputs": [
    {
     "name": "stdout",
     "output_type": "stream",
     "text": [
      "609\n"
     ]
    },
    {
     "ename": "TypeError",
     "evalue": "'<' not supported between instances of 'NoneType' and 'float'",
     "output_type": "error",
     "traceback": [
      "\u001b[0;31m---------------------------------------------------------------------------\u001b[0m",
      "\u001b[0;31mTypeError\u001b[0m                                 Traceback (most recent call last)",
      "\u001b[0;32m<ipython-input-6-de9beede8811>\u001b[0m in \u001b[0;36m<module>\u001b[0;34m\u001b[0m\n\u001b[0;32m----> 1\u001b[0;31m \u001b[0msearch\u001b[0m\u001b[0;34m.\u001b[0m\u001b[0mcluster\u001b[0m\u001b[0;34m(\u001b[0m\u001b[0;34m\"477\"\u001b[0m\u001b[0;34m,\u001b[0m \u001b[0;36m2\u001b[0m\u001b[0;34m)\u001b[0m\u001b[0;34m\u001b[0m\u001b[0;34m\u001b[0m\u001b[0m\n\u001b[0m",
      "\u001b[0;32m~/cs5052/Spark/search.py\u001b[0m in \u001b[0;36mcluster\u001b[0;34m(self, user, n)\u001b[0m\n\u001b[1;32m    325\u001b[0m \u001b[0;34m\u001b[0m\u001b[0m\n\u001b[1;32m    326\u001b[0m         \u001b[0;31m# for each user in users, get their similarity score to user, order by similarity score, limit n\u001b[0m\u001b[0;34m\u001b[0m\u001b[0;34m\u001b[0m\u001b[0;34m\u001b[0m\u001b[0m\n\u001b[0;32m--> 327\u001b[0;31m         \u001b[0;32mreturn\u001b[0m \u001b[0msorted\u001b[0m\u001b[0;34m(\u001b[0m\u001b[0;34m[\u001b[0m\u001b[0;34m(\u001b[0m\u001b[0mi\u001b[0m\u001b[0;34m,\u001b[0m \u001b[0mself\u001b[0m\u001b[0;34m.\u001b[0m\u001b[0mcompare_users\u001b[0m\u001b[0;34m(\u001b[0m\u001b[0muser\u001b[0m\u001b[0;34m,\u001b[0m \u001b[0mi\u001b[0m\u001b[0;34m)\u001b[0m\u001b[0;34m.\u001b[0m\u001b[0mfirst\u001b[0m\u001b[0;34m(\u001b[0m\u001b[0;34m)\u001b[0m\u001b[0;34m[\u001b[0m\u001b[0;36m0\u001b[0m\u001b[0;34m]\u001b[0m\u001b[0;34m)\u001b[0m \u001b[0;32mfor\u001b[0m \u001b[0mi\u001b[0m \u001b[0;32min\u001b[0m \u001b[0musers_pd\u001b[0m\u001b[0;34m]\u001b[0m\u001b[0;34m,\u001b[0m \u001b[0mkey\u001b[0m\u001b[0;34m=\u001b[0m\u001b[0;32mlambda\u001b[0m \u001b[0mx\u001b[0m\u001b[0;34m:\u001b[0m \u001b[0mx\u001b[0m\u001b[0;34m[\u001b[0m\u001b[0;36m1\u001b[0m\u001b[0;34m]\u001b[0m\u001b[0;34m,\u001b[0m \u001b[0mreverse\u001b[0m\u001b[0;34m=\u001b[0m\u001b[0;32mTrue\u001b[0m\u001b[0;34m)\u001b[0m\u001b[0;34m[\u001b[0m\u001b[0;34m:\u001b[0m\u001b[0mn\u001b[0m\u001b[0;34m]\u001b[0m\u001b[0;34m\u001b[0m\u001b[0;34m\u001b[0m\u001b[0m\n\u001b[0m",
      "\u001b[0;31mTypeError\u001b[0m: '<' not supported between instances of 'NoneType' and 'float'"
     ]
    }
   ],
   "source": [
    "search.cluster(\"477\", 2)"
   ]
  },
  {
   "cell_type": "code",
   "execution_count": null,
   "metadata": {},
   "outputs": [],
   "source": []
  }
 ],
 "metadata": {
  "kernelspec": {
   "display_name": "PyCharm (Spark)",
   "language": "python",
   "name": "pycharm-ac151855"
  },
  "language_info": {
   "codemirror_mode": {
    "name": "ipython",
    "version": 3
   },
   "file_extension": ".py",
   "mimetype": "text/x-python",
   "name": "python",
   "nbconvert_exporter": "python",
   "pygments_lexer": "ipython3",
   "version": "3.8.6"
  }
 },
 "nbformat": 4,
 "nbformat_minor": 5
}
