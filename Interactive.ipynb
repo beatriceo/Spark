{
 "cells": [
  {
   "cell_type": "code",
   "execution_count": 1,
   "id": "pointed-blues",
   "metadata": {},
   "outputs": [],
   "source": [
    "from pyspark.sql import SparkSession\n",
    "import os\n",
    "from search import Search\n",
    "from plotting import Plotting\n",
    "\n",
    "os.environ[\"PYTHONUNBUFFERED\"] = \"1\"\n",
    "os.environ[\"PYSPARK_PYTHON\"] = \"/usr/bin/python3\"\n",
    "os.environ[\"PYSPARK_DRIVER_PYTHON\"] = \"/usr/bin/python3\""
   ]
  },
  {
   "cell_type": "code",
   "execution_count": 2,
   "id": "tough-gnome",
   "metadata": {},
   "outputs": [],
   "source": [
    "def read(spark):\n",
    "    datasets = {}\n",
    "    for dataset in os.listdir(\"./ml-latest-small\"):\n",
    "        data = spark.read.option(\"header\", True).format(\"csv\").load(os.path.join(os.getcwd(),\"ml-latest-small\",dataset))\n",
    "        datasets[dataset.split('.')[0]]=data\n",
    "    return datasets"
   ]
  },
  {
   "cell_type": "code",
   "execution_count": 3,
   "id": "attached-customer",
   "metadata": {},
   "outputs": [],
   "source": [
    "spark = SparkSession.builder.master(\"local\").appName(\"Movies\").config(\"conf-key\", \"conf-value\").getOrCreate()\n",
    "datasets = read(spark)"
   ]
  },
  {
   "cell_type": "code",
   "execution_count": 4,
   "id": "progressive-eight",
   "metadata": {},
   "outputs": [],
   "source": [
    "plotting = Plotting(datasets, spark)\n",
    "search = Search(datasets, spark)"
   ]
  },
  {
   "cell_type": "markdown",
   "id": "patient-laptop",
   "metadata": {},
   "source": [
    "Search user by id, show the number of movies/genre that he/she has watched"
   ]
  },
  {
   "cell_type": "code",
   "execution_count": 5,
   "id": "partial-times",
   "metadata": {},
   "outputs": [
    {
     "data": {
      "text/plain": "232"
     },
     "execution_count": 5,
     "metadata": {},
     "output_type": "execute_result"
    }
   ],
   "source": [
    "search.search_user_movies('1')"
   ]
  },
  {
   "cell_type": "code",
   "execution_count": 6,
   "id": "little-dodge",
   "metadata": {},
   "outputs": [
    {
     "name": "stdout",
     "output_type": "stream",
     "text": [
      "+---------+--------+\n",
      "|   genres|count(1)|\n",
      "+---------+--------+\n",
      "|    Crime|      45|\n",
      "|  Romance|      26|\n",
      "| Thriller|      55|\n",
      "|Adventure|      85|\n",
      "|    Drama|      68|\n",
      "|      War|      22|\n",
      "|  Fantasy|      47|\n",
      "|  Mystery|      18|\n",
      "|  Musical|      22|\n",
      "|Animation|      29|\n",
      "|Film-Noir|       1|\n",
      "|   Horror|      17|\n",
      "|  Western|       7|\n",
      "|   Comedy|      83|\n",
      "| Children|      42|\n",
      "|   Action|      90|\n",
      "|   Sci-Fi|      40|\n",
      "+---------+--------+\n",
      "\n"
     ]
    }
   ],
   "source": [
    "search.search_user_genre('1').show()"
   ]
  },
  {
   "cell_type": "markdown",
   "id": "ruled-witch",
   "metadata": {},
   "source": [
    "Given a list of users, search all movies watched by each user"
   ]
  },
  {
   "cell_type": "code",
   "execution_count": 7,
   "id": "documented-inclusion",
   "metadata": {},
   "outputs": [
    {
     "data": {
      "text/plain": "[232, 29, 39]"
     },
     "execution_count": 7,
     "metadata": {},
     "output_type": "execute_result"
    }
   ],
   "source": [
    "[i for i in search.search_users_movies([\"1\",\"2\",\"3\"])]"
   ]
  },
  {
   "cell_type": "markdown",
   "id": "collected-sodium",
   "metadata": {},
   "source": [
    "Search movie by id/title, show the average rating, the number of users that have\n",
    "watched the movie"
   ]
  },
  {
   "cell_type": "code",
   "execution_count": 8,
   "id": "collective-vampire",
   "metadata": {},
   "outputs": [
    {
     "name": "stdout",
     "output_type": "stream",
     "text": [
      "+-------+-----------------+--------+----------------+\n",
      "|movieId|      avg(rating)|count(1)|           title|\n",
      "+-------+-----------------+--------+----------------+\n",
      "|      1|3.813953488372093|     215|Toy Story (1995)|\n",
      "+-------+-----------------+--------+----------------+\n",
      "\n"
     ]
    }
   ],
   "source": [
    "search.search_movie(id=\"1\").show()"
   ]
  },
  {
   "cell_type": "code",
   "execution_count": 9,
   "id": "operating-shopper",
   "metadata": {},
   "outputs": [
    {
     "name": "stdout",
     "output_type": "stream",
     "text": [
      "+-------+-----------------+--------+------------------+\n",
      "|movieId|      avg(rating)|count(1)|             title|\n",
      "+-------+-----------------+--------+------------------+\n",
      "|   3114|3.711340206185567|      97|Toy Story 2 (1999)|\n",
      "|      1|3.813953488372093|     215|  Toy Story (1995)|\n",
      "|  78499|3.981818181818182|      55|Toy Story 3 (2010)|\n",
      "+-------+-----------------+--------+------------------+\n",
      "\n"
     ]
    }
   ],
   "source": [
    "search.search_movie(name=\"Toy Story\").show()"
   ]
  },
  {
   "cell_type": "markdown",
   "id": "sharp-cyprus",
   "metadata": {},
   "source": [
    "Search genre, show all movies in that genre"
   ]
  },
  {
   "cell_type": "code",
   "execution_count": 10,
   "id": "ethical-request",
   "metadata": {},
   "outputs": [
    {
     "name": "stdout",
     "output_type": "stream",
     "text": [
      "+-------+-----------------------------------------+----------------------------------+\n",
      "|movieId|title                                    |genres                            |\n",
      "+-------+-----------------------------------------+----------------------------------+\n",
      "|6      |Heat (1995)                              |Action|Crime|Thriller             |\n",
      "|9      |Sudden Death (1995)                      |Action                            |\n",
      "|10     |GoldenEye (1995)                         |Action|Adventure|Thriller         |\n",
      "|15     |Cutthroat Island (1995)                  |Action|Adventure|Romance          |\n",
      "|20     |Money Train (1995)                       |Action|Comedy|Crime|Drama|Thriller|\n",
      "|23     |Assassins (1995)                         |Action|Crime|Thriller             |\n",
      "|42     |Dead Presidents (1995)                   |Action|Crime|Drama                |\n",
      "|44     |Mortal Kombat (1995)                     |Action|Adventure|Fantasy          |\n",
      "|66     |Lawnmower Man 2: Beyond Cyberspace (1996)|Action|Sci-Fi|Thriller            |\n",
      "|70     |From Dusk Till Dawn (1996)               |Action|Comedy|Horror|Thriller     |\n",
      "+-------+-----------------------------------------+----------------------------------+\n",
      "only showing top 10 rows\n",
      "\n"
     ]
    }
   ],
   "source": [
    "search.search_genre(\"Action\").show(10,False)"
   ]
  },
  {
   "cell_type": "markdown",
   "id": "verified-sphere",
   "metadata": {},
   "source": [
    "Given a list of genres, search all movies belonging to each genre"
   ]
  },
  {
   "cell_type": "code",
   "execution_count": 19,
   "id": "convertible-parish",
   "metadata": {},
   "outputs": [
    {
     "name": "stdout",
     "output_type": "stream",
     "text": [
      "+-------+-------------------+-------------------------+\n",
      "|movieId|title              |genres                   |\n",
      "+-------+-------------------+-------------------------+\n",
      "|6      |Heat (1995)        |Action|Crime|Thriller    |\n",
      "|9      |Sudden Death (1995)|Action                   |\n",
      "|10     |GoldenEye (1995)   |Action|Adventure|Thriller|\n",
      "+-------+-------------------+-------------------------+\n",
      "only showing top 3 rows\n",
      "\n",
      "+-------+------------------------+--------------------+\n",
      "|movieId|title                   |genres              |\n",
      "+-------+------------------------+--------------------+\n",
      "|3      |Grumpier Old Men (1995) |Comedy|Romance      |\n",
      "|4      |Waiting to Exhale (1995)|Comedy|Drama|Romance|\n",
      "|7      |Sabrina (1995)          |Comedy|Romance      |\n",
      "+-------+------------------------+--------------------+\n",
      "only showing top 3 rows\n",
      "\n"
     ]
    },
    {
     "data": {
      "text/plain": "[None, None]"
     },
     "execution_count": 19,
     "metadata": {},
     "output_type": "execute_result"
    }
   ],
   "source": [
    "[i.show(3, False) for i in search.search_genres([\"Action\",\"Romance\"])]"
   ]
  },
  {
   "cell_type": "markdown",
   "id": "excited-hygiene",
   "metadata": {},
   "source": [
    "Search movies by year"
   ]
  },
  {
   "cell_type": "code",
   "execution_count": 12,
   "id": "acute-overall",
   "metadata": {},
   "outputs": [
    {
     "name": "stdout",
     "output_type": "stream",
     "text": [
      "+-------+----------------------------------+-------------------------------------------+\n",
      "|movieId|title                             |genres                                     |\n",
      "+-------+----------------------------------+-------------------------------------------+\n",
      "|1      |Toy Story (1995)                  |Adventure|Animation|Children|Comedy|Fantasy|\n",
      "|2      |Jumanji (1995)                    |Adventure|Children|Fantasy                 |\n",
      "|3      |Grumpier Old Men (1995)           |Comedy|Romance                             |\n",
      "|4      |Waiting to Exhale (1995)          |Comedy|Drama|Romance                       |\n",
      "|5      |Father of the Bride Part II (1995)|Comedy                                     |\n",
      "|6      |Heat (1995)                       |Action|Crime|Thriller                      |\n",
      "|7      |Sabrina (1995)                    |Comedy|Romance                             |\n",
      "|8      |Tom and Huck (1995)               |Adventure|Children                         |\n",
      "|9      |Sudden Death (1995)               |Action                                     |\n",
      "|10     |GoldenEye (1995)                  |Action|Adventure|Thriller                  |\n",
      "+-------+----------------------------------+-------------------------------------------+\n",
      "only showing top 10 rows\n",
      "\n"
     ]
    }
   ],
   "source": [
    "search.search_movie_year(\"1995\").show(10,False)"
   ]
  },
  {
   "cell_type": "markdown",
   "id": "decent-implementation",
   "metadata": {},
   "source": [
    "List the top n movies with highest rating, ordered by the rating"
   ]
  },
  {
   "cell_type": "code",
   "execution_count": 21,
   "id": "delayed-steel",
   "metadata": {},
   "outputs": [
    {
     "name": "stdout",
     "output_type": "stream",
     "text": [
      "+-------+-----------+-------+---------------------------------------------------------------------------------+---------------+\n",
      "|movieId|avg(rating)|watched|title                                                                            |genres         |\n",
      "+-------+-----------+-------+---------------------------------------------------------------------------------+---------------+\n",
      "|99     |5.0        |2      |Heidi Fleiss: Hollywood Madam (1995)                                             |Documentary    |\n",
      "|6442   |5.0        |2      |Belle époque (1992)                                                              |Comedy|Romance |\n",
      "|78836  |5.0        |2      |Enter the Void (2009)                                                            |Drama          |\n",
      "|3473   |5.0        |2      |Jonah Who Will Be 25 in the Year 2000 (Jonas qui aura 25 ans en l'an 2000) (1976)|Comedy         |\n",
      "|53     |5.0        |2      |Lamerica (1994)                                                                  |Adventure|Drama|\n",
      "+-------+-----------+-------+---------------------------------------------------------------------------------+---------------+\n",
      "\n"
     ]
    }
   ],
   "source": [
    "search.list_rating(5).show(truncate=False)"
   ]
  },
  {
   "cell_type": "markdown",
   "id": "organized-spyware",
   "metadata": {},
   "source": [
    "List the top n movies with the highest number of watches, ordered by the number of\n",
    "watches"
   ]
  },
  {
   "cell_type": "code",
   "execution_count": 22,
   "id": "confident-baker",
   "metadata": {},
   "outputs": [
    {
     "name": "stdout",
     "output_type": "stream",
     "text": [
      "+-------+-------+--------------------------------+---------------------------+\n",
      "|movieId|watches|title                           |genres                     |\n",
      "+-------+-------+--------------------------------+---------------------------+\n",
      "|356    |329    |Forrest Gump (1994)             |Comedy|Drama|Romance|War   |\n",
      "|318    |317    |Shawshank Redemption, The (1994)|Crime|Drama                |\n",
      "|296    |307    |Pulp Fiction (1994)             |Comedy|Crime|Drama|Thriller|\n",
      "|593    |279    |Silence of the Lambs, The (1991)|Crime|Horror|Thriller      |\n",
      "|2571   |278    |Matrix, The (1999)              |Action|Sci-Fi|Thriller     |\n",
      "+-------+-------+--------------------------------+---------------------------+\n",
      "\n"
     ]
    }
   ],
   "source": [
    "search.list_watches(5).show(truncate=False)"
   ]
  },
  {
   "cell_type": "markdown",
   "id": "surprising-peripheral",
   "metadata": {},
   "source": [
    "Find the favourite genre of a given user, or group of users. Consider and justify how\n",
    "you will define ‘favourite’."
   ]
  },
  {
   "cell_type": "code",
   "execution_count": 15,
   "id": "hearing-latest",
   "metadata": {},
   "outputs": [
    {
     "name": "stdout",
     "output_type": "stream",
     "text": [
      "+---------+------------------+\n",
      "|genres   |score             |\n",
      "+---------+------------------+\n",
      "|Action   |4.322222222222222 |\n",
      "|Adventure|4.142494117647059 |\n",
      "|Comedy   |3.9392168674698795|\n",
      "|Drama    |3.410647058823529 |\n",
      "|Thriller |2.516290909090909 |\n",
      "|Fantasy  |2.222             |\n",
      "|Crime    |2.151644444444444 |\n",
      "|Children |2.096452380952381 |\n",
      "|Sci-Fi   |1.85055           |\n",
      "|Animation|1.4772413793103447|\n",
      "+---------+------------------+\n",
      "only showing top 10 rows\n",
      "\n"
     ]
    }
   ],
   "source": [
    "search.search_user_favourites(\"1\").show(10,False)"
   ]
  },
  {
   "cell_type": "markdown",
   "id": "asian-scope",
   "metadata": {},
   "source": [
    "Compare the movie tastes of two users. Consider and justify how you will compare\n",
    "and present the data."
   ]
  },
  {
   "cell_type": "code",
   "execution_count": 16,
   "id": "distant-score",
   "metadata": {},
   "outputs": [],
   "source": [
    "#TODO"
   ]
  },
  {
   "cell_type": "code",
   "execution_count": 17,
   "id": "collected-collins",
   "metadata": {},
   "outputs": [
    {
     "data": {
      "text/plain": "<Figure size 432x288 with 2 Axes>",
      "image/png": "[encoded data removed]"
     },
     "metadata": {
      "needs_background": "light"
     },
     "output_type": "display_data"
    }
   ],
   "source": [
    "plotting.gen_movies_report()"
   ]
  },
  {
   "cell_type": "code",
   "execution_count": 18,
   "id": "spare-worker",
   "metadata": {},
   "outputs": [
    {
     "data": {
      "text/plain": "<Figure size 432x288 with 2 Axes>",
      "image/png": "[encoded data removed]"
     },
     "metadata": {
      "needs_background": "light"
     },
     "output_type": "display_data"
    }
   ],
   "source": [
    "plotting.gen_user_report(\"1\")"
   ]
  },
  {
   "cell_type": "code",
   "execution_count": 18,
   "id": "tender-joyce",
   "metadata": {},
   "outputs": [],
   "source": []
  }
 ],
 "metadata": {
  "kernelspec": {
   "display_name": "Python 3",
   "language": "python",
   "name": "python3"
  },
  "language_info": {
   "codemirror_mode": {
    "name": "ipython",
    "version": 3
   },
   "file_extension": ".py",
   "mimetype": "text/x-python",
   "name": "python",
   "nbconvert_exporter": "python",
   "pygments_lexer": "ipython3",
   "version": "3.8.2"
  }
 },
 "nbformat": 4,
 "nbformat_minor": 5
}