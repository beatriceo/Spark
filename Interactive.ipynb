{
 "cells": [
  {
   "cell_type": "code",
   "execution_count": 1,
   "id": "italian-validation",
   "metadata": {},
   "outputs": [
    {
     "name": "stderr",
     "output_type": "stream",
     "text": [
      "E:\\Users\\Sam\\Anaconda3\\lib\\site-packages\\numpy\\_distributor_init.py:32: UserWarning: loaded more than 1 DLL from .libs:\n",
      "E:\\Users\\Sam\\Anaconda3\\lib\\site-packages\\numpy\\.libs\\libopenblas.JPIJNSWNNAN3CE6LLI5FWSPHUT2VXMTH.gfortran-win_amd64.dll\n",
      "E:\\Users\\Sam\\Anaconda3\\lib\\site-packages\\numpy\\.libs\\libopenblas.PYQHXLVVQ7VESDPUVUADXEVJOBGHJPAY.gfortran-win_amd64.dll\n",
      "  stacklevel=1)\n",
      "\n",
      "Bad key \"text.kerning_factor\" on line 4 in\n",
      "E:\\Users\\Sam\\Anaconda3\\lib\\site-packages\\matplotlib\\mpl-data\\stylelib\\_classic_test_patch.mplstyle.\n",
      "You probably need to get an updated matplotlibrc file from\n",
      "http://github.com/matplotlib/matplotlib/blob/master/matplotlibrc.template\n",
      "or from the matplotlib source distribution\n"
     ]
    }
   ],
   "source": [
    "from pyspark.sql import SparkSession\n",
    "import os\n",
    "from search import Search\n",
    "from plotting import Plotting\n",
    "\n",
    "os.environ[\"PYTHONUNBUFFERED\"] = \"1\"\n",
    "# os.environ[\"PYSPARK_PYTHON\"] = \"/usr/bin/python3\"\n",
    "# os.environ[\"PYSPARK_DRIVER_PYTHON\"] = \"/usr/bin/python3\""
   ]
  },
  {
   "cell_type": "code",
   "execution_count": 2,
   "id": "alien-possibility",
   "metadata": {},
   "outputs": [],
   "source": [
    "dataset_dir = 'large'"
   ]
  },
  {
   "cell_type": "code",
   "execution_count": 3,
   "id": "qualified-blond",
   "metadata": {},
   "outputs": [],
   "source": [
    "def read(spark):\n",
    "    datasets = {}\n",
    "    for dataset in os.listdir(dataset_dir):\n",
    "        data = spark.read.option(\"header\", True).format(\"csv\").load(os.path.join(os.getcwd(),dataset_dir,dataset))\n",
    "        datasets[dataset.split('.')[0]]=data\n",
    "    return datasets"
   ]
  },
  {
   "cell_type": "code",
   "execution_count": 4,
   "id": "documented-lucas",
   "metadata": {},
   "outputs": [],
   "source": [
    "spark = SparkSession.builder.master(\"local\").appName(\"Movies\").config(\"conf-key\", \"conf-value\").getOrCreate()\n",
    "datasets = read(spark)"
   ]
  },
  {
   "cell_type": "code",
   "execution_count": 5,
   "id": "destroyed-prior",
   "metadata": {},
   "outputs": [],
   "source": [
    "search = Search(datasets, spark)\n",
    "plotting = Plotting(search)"
   ]
  },
  {
   "cell_type": "markdown",
   "id": "promotional-produce",
   "metadata": {},
   "source": [
    "Cache the tables for user and movie Ids that will be used frequently"
   ]
  },
  {
   "cell_type": "code",
   "execution_count": 6,
   "id": "iraqi-australian",
   "metadata": {},
   "outputs": [],
   "source": [
    "search.cache_user('1')\n",
    "search.cache_movie('1')\n",
    "search.cache_movie_string('1995')"
   ]
  },
  {
   "cell_type": "markdown",
   "id": "engaged-principle",
   "metadata": {},
   "source": [
    "Search user by id, show the number of movies/genre that he/she has watched. This also caches the collected dataframe."
   ]
  },
  {
   "cell_type": "code",
   "execution_count": 7,
   "id": "approved-april",
   "metadata": {},
   "outputs": [
    {
     "name": "stdout",
     "output_type": "stream",
     "text": [
      "+------+-------+------+----------+-------+--------------------+--------------------+\n",
      "|userId|movieId|rating| timestamp|movieId|               title|              genres|\n",
      "+------+-------+------+----------+-------+--------------------+--------------------+\n",
      "|     1|    307|   3.5|1256677221|    307|Three Colors: Blu...|               Drama|\n",
      "|     1|    481|   3.5|1256677456|    481|   Kalifornia (1993)|      Drama|Thriller|\n",
      "|     1|   1091|   1.5|1256677471|   1091|Weekend at Bernie...|              Comedy|\n",
      "|     1|   1257|   4.5|1256677460|   1257|Better Off Dead.....|      Comedy|Romance|\n",
      "|     1|   1449|   4.5|1256677264|   1449|Waiting for Guffm...|              Comedy|\n",
      "|     1|   1590|   2.5|1256677236|   1590|Event Horizon (1997)|Horror|Sci-Fi|Thr...|\n",
      "|     1|   1591|   1.5|1256677475|   1591|        Spawn (1997)|Action|Adventure|...|\n",
      "|     1|   2134|   4.5|1256677464|   2134|Weird Science (1985)|Comedy|Fantasy|Sc...|\n",
      "|     1|   2478|   4.0|1256677239|   2478|¡Three Amigos! (1...|      Comedy|Western|\n",
      "|     1|   2840|   3.0|1256677500|   2840|     Stigmata (1999)|      Drama|Thriller|\n",
      "|     1|   2986|   2.5|1256677496|   2986|    RoboCop 2 (1990)|Action|Crime|Sci-...|\n",
      "|     1|   3020|   4.0|1256677260|   3020| Falling Down (1993)|        Action|Drama|\n",
      "|     1|   3424|   4.5|1256677444|   3424|Do the Right Thin...|               Drama|\n",
      "|     1|   3698|   3.5|1256677243|   3698|Running Man, The ...|       Action|Sci-Fi|\n",
      "|     1|   3826|   2.0|1256677210|   3826|   Hollow Man (2000)|Horror|Sci-Fi|Thr...|\n",
      "|     1|   3893|   3.5|1256677486|   3893|  Nurse Betty (2000)|Comedy|Crime|Dram...|\n",
      "+------+-------+------+----------+-------+--------------------+--------------------+\n",
      "\n"
     ]
    }
   ],
   "source": [
    "import datetime\n",
    "start = datetime.datetime.now()\n",
    "search.search_user_movies('1').show()\n",
    "uncached_time = datetime.datetime.now()-start"
   ]
  },
  {
   "cell_type": "markdown",
   "id": "social-suspect",
   "metadata": {},
   "source": [
    "A demonstration that after the dataframe for the user is cached the query runs faster"
   ]
  },
  {
   "cell_type": "code",
   "execution_count": 8,
   "id": "fitting-tractor",
   "metadata": {},
   "outputs": [
    {
     "name": "stdout",
     "output_type": "stream",
     "text": [
      "+------+-------+------+----------+-------+--------------------+--------------------+\n",
      "|userId|movieId|rating| timestamp|movieId|               title|              genres|\n",
      "+------+-------+------+----------+-------+--------------------+--------------------+\n",
      "|     1|    307|   3.5|1256677221|    307|Three Colors: Blu...|               Drama|\n",
      "|     1|    481|   3.5|1256677456|    481|   Kalifornia (1993)|      Drama|Thriller|\n",
      "|     1|   1091|   1.5|1256677471|   1091|Weekend at Bernie...|              Comedy|\n",
      "|     1|   1257|   4.5|1256677460|   1257|Better Off Dead.....|      Comedy|Romance|\n",
      "|     1|   1449|   4.5|1256677264|   1449|Waiting for Guffm...|              Comedy|\n",
      "|     1|   1590|   2.5|1256677236|   1590|Event Horizon (1997)|Horror|Sci-Fi|Thr...|\n",
      "|     1|   1591|   1.5|1256677475|   1591|        Spawn (1997)|Action|Adventure|...|\n",
      "|     1|   2134|   4.5|1256677464|   2134|Weird Science (1985)|Comedy|Fantasy|Sc...|\n",
      "|     1|   2478|   4.0|1256677239|   2478|¡Three Amigos! (1...|      Comedy|Western|\n",
      "|     1|   2840|   3.0|1256677500|   2840|     Stigmata (1999)|      Drama|Thriller|\n",
      "|     1|   2986|   2.5|1256677496|   2986|    RoboCop 2 (1990)|Action|Crime|Sci-...|\n",
      "|     1|   3020|   4.0|1256677260|   3020| Falling Down (1993)|        Action|Drama|\n",
      "|     1|   3424|   4.5|1256677444|   3424|Do the Right Thin...|               Drama|\n",
      "|     1|   3698|   3.5|1256677243|   3698|Running Man, The ...|       Action|Sci-Fi|\n",
      "|     1|   3826|   2.0|1256677210|   3826|   Hollow Man (2000)|Horror|Sci-Fi|Thr...|\n",
      "|     1|   3893|   3.5|1256677486|   3893|  Nurse Betty (2000)|Comedy|Crime|Dram...|\n",
      "+------+-------+------+----------+-------+--------------------+--------------------+\n",
      "\n",
      "uncached speed: 0:00:30.882413\n",
      "cached speed: 0:00:00.154132\n"
     ]
    }
   ],
   "source": [
    "start = datetime.datetime.now()\n",
    "search.search_user_movies('1').show()\n",
    "cached_time = datetime.datetime.now()-start\n",
    "print('uncached speed: '+str(uncached_time))\n",
    "print('cached speed: '+str(cached_time))"
   ]
  },
  {
   "cell_type": "code",
   "execution_count": 13,
   "id": "following-native",
   "metadata": {},
   "outputs": [
    {
     "name": "stdout",
     "output_type": "stream",
     "text": [
      "+---------+------------------+-------+\n",
      "|   genres|       avg(rating)|watches|\n",
      "+---------+------------------+-------+\n",
      "|    Crime|               3.0|      2|\n",
      "|  Romance|               4.0|      2|\n",
      "| Thriller| 2.642857142857143|      7|\n",
      "|Adventure|               1.5|      1|\n",
      "|    Drama|3.6666666666666665|      6|\n",
      "|  Fantasy|               4.5|      1|\n",
      "|   Horror|              2.25|      2|\n",
      "|  Western|               4.0|      1|\n",
      "|   Comedy|              3.75|      6|\n",
      "|   Action|             2.875|      4|\n",
      "|   Sci-Fi|              2.75|      6|\n",
      "+---------+------------------+-------+\n",
      "\n"
     ]
    }
   ],
   "source": [
    "search.search_user_genre('1').show()"
   ]
  },
  {
   "cell_type": "markdown",
   "id": "editorial-slave",
   "metadata": {},
   "source": [
    "Given a list of users, search all movies watched by each user"
   ]
  },
  {
   "cell_type": "code",
   "execution_count": 7,
   "id": "fantastic-organization",
   "metadata": {},
   "outputs": [
    {
     "name": "stdout",
     "output_type": "stream",
     "text": [
      "+------+-------+------+---------+-------+--------------------+--------------------+\n",
      "|userId|movieId|rating|timestamp|movieId|               title|              genres|\n",
      "+------+-------+------+---------+-------+--------------------+--------------------+\n",
      "|     1|      1|   4.0|964982703|      1|    Toy Story (1995)|Adventure|Animati...|\n",
      "|     1|      3|   4.0|964981247|      3|Grumpier Old Men ...|      Comedy|Romance|\n",
      "|     1|      6|   4.0|964982224|      6|         Heat (1995)|Action|Crime|Thri...|\n",
      "|     1|     47|   5.0|964983815|     47|Seven (a.k.a. Se7...|    Mystery|Thriller|\n",
      "|     1|     50|   5.0|964982931|     50|Usual Suspects, T...|Crime|Mystery|Thr...|\n",
      "|     1|     70|   3.0|964982400|     70|From Dusk Till Da...|Action|Comedy|Hor...|\n",
      "|     1|    101|   5.0|964980868|    101|Bottle Rocket (1996)|Adventure|Comedy|...|\n",
      "|     1|    110|   4.0|964982176|    110|   Braveheart (1995)|    Action|Drama|War|\n",
      "|     1|    151|   5.0|964984041|    151|      Rob Roy (1995)|Action|Drama|Roma...|\n",
      "|     1|    157|   5.0|964984100|    157|Canadian Bacon (1...|          Comedy|War|\n",
      "|     1|    163|   5.0|964983650|    163|    Desperado (1995)|Action|Romance|We...|\n",
      "|     1|    216|   5.0|964981208|    216|Billy Madison (1995)|              Comedy|\n",
      "|     1|    223|   3.0|964980985|    223|       Clerks (1994)|              Comedy|\n",
      "|     1|    231|   5.0|964981179|    231|Dumb & Dumber (Du...|    Adventure|Comedy|\n",
      "|     1|    235|   4.0|964980908|    235|      Ed Wood (1994)|        Comedy|Drama|\n",
      "|     1|    260|   5.0|964981680|    260|Star Wars: Episod...|Action|Adventure|...|\n",
      "|     1|    296|   3.0|964982967|    296| Pulp Fiction (1994)|Comedy|Crime|Dram...|\n",
      "|     1|    316|   3.0|964982310|    316|     Stargate (1994)|Action|Adventure|...|\n",
      "|     1|    333|   5.0|964981179|    333|    Tommy Boy (1995)|              Comedy|\n",
      "|     1|    349|   4.0|964982563|    349|Clear and Present...|Action|Crime|Dram...|\n",
      "+------+-------+------+---------+-------+--------------------+--------------------+\n",
      "only showing top 20 rows\n",
      "\n",
      "+------+-------+------+----------+-------+--------------------+--------------------+\n",
      "|userId|movieId|rating| timestamp|movieId|               title|              genres|\n",
      "+------+-------+------+----------+-------+--------------------+--------------------+\n",
      "|     2|    318|   3.0|1445714835|    318|Shawshank Redempt...|         Crime|Drama|\n",
      "|     2|    333|   4.0|1445715029|    333|    Tommy Boy (1995)|              Comedy|\n",
      "|     2|   1704|   4.5|1445715228|   1704|Good Will Hunting...|       Drama|Romance|\n",
      "|     2|   3578|   4.0|1445714885|   3578|    Gladiator (2000)|Action|Adventure|...|\n",
      "|     2|   6874|   4.0|1445714952|   6874|Kill Bill: Vol. 1...|Action|Crime|Thri...|\n",
      "|     2|   8798|   3.5|1445714960|   8798|   Collateral (2004)|Action|Crime|Dram...|\n",
      "|     2|  46970|   4.0|1445715013|  46970|Talladega Nights:...|       Action|Comedy|\n",
      "|     2|  48516|   4.0|1445715064|  48516|Departed, The (2006)|Crime|Drama|Thriller|\n",
      "|     2|  58559|   4.5|1445715141|  58559|Dark Knight, The ...|Action|Crime|Dram...|\n",
      "|     2|  60756|   5.0|1445714980|  60756|Step Brothers (2008)|              Comedy|\n",
      "|     2|  68157|   4.5|1445715154|  68157|Inglourious Baste...|    Action|Drama|War|\n",
      "|     2|  71535|   3.0|1445714974|  71535|   Zombieland (2009)|Action|Comedy|Horror|\n",
      "|     2|  74458|   4.0|1445714926|  74458|Shutter Island (2...|Drama|Mystery|Thr...|\n",
      "|     2|  77455|   3.0|1445714941|  77455|Exit Through the ...|  Comedy|Documentary|\n",
      "|     2|  79132|   4.0|1445714841|  79132|    Inception (2010)|Action|Crime|Dram...|\n",
      "|     2|  80489|   4.5|1445715340|  80489|    Town, The (2010)|Crime|Drama|Thriller|\n",
      "|     2|  80906|   5.0|1445715172|  80906|   Inside Job (2010)|         Documentary|\n",
      "|     2|  86345|   4.0|1445715166|  86345|Louis C.K.: Hilar...|              Comedy|\n",
      "|     2|  89774|   5.0|1445715189|  89774|      Warrior (2011)|               Drama|\n",
      "|     2|  91529|   3.5|1445714891|  91529|Dark Knight Rises...|Action|Adventure|...|\n",
      "+------+-------+------+----------+-------+--------------------+--------------------+\n",
      "only showing top 20 rows\n",
      "\n",
      "+------+-------+------+----------+-------+--------------------+--------------------+\n",
      "|userId|movieId|rating| timestamp|movieId|               title|              genres|\n",
      "+------+-------+------+----------+-------+--------------------+--------------------+\n",
      "|     3|     31|   0.5|1306463578|     31|Dangerous Minds (...|               Drama|\n",
      "|     3|    527|   0.5|1306464275|    527|Schindler's List ...|           Drama|War|\n",
      "|     3|    647|   0.5|1306463619|    647|Courage Under Fir...|Action|Crime|Dram...|\n",
      "|     3|    688|   0.5|1306464228|    688|Operation Dumbo D...|Action|Adventure|...|\n",
      "|     3|    720|   0.5|1306463595|    720|Wallace & Gromit:...|Adventure|Animati...|\n",
      "|     3|    849|   5.0|1306463611|    849|Escape from L.A. ...|Action|Adventure|...|\n",
      "|     3|    914|   0.5|1306463567|    914| My Fair Lady (1964)|Comedy|Drama|Musi...|\n",
      "|     3|   1093|   0.5|1306463627|   1093|   Doors, The (1991)|               Drama|\n",
      "|     3|   1124|   0.5|1306464216|   1124|On Golden Pond (1...|               Drama|\n",
      "|     3|   1263|   0.5|1306463569|   1263|Deer Hunter, The ...|           Drama|War|\n",
      "|     3|   1272|   0.5|1306463624|   1272|       Patton (1970)|           Drama|War|\n",
      "|     3|   1275|   3.5|1306463323|   1275|   Highlander (1986)|Action|Adventure|...|\n",
      "|     3|   1302|   0.5|1306464189|   1302|Field of Dreams (...|Children|Drama|Fa...|\n",
      "|     3|   1371|   3.0|1306463561|   1371|Star Trek: The Mo...|    Adventure|Sci-Fi|\n",
      "|     3|   1587|   4.5|1306464003|   1587|Conan the Barbari...|Action|Adventure|...|\n",
      "|     3|   2018|   0.5|1306464175|   2018|        Bambi (1942)|Animation|Childre...|\n",
      "|     3|   2080|   0.5|1306463572|   2080|Lady and the Tram...|Animation|Childre...|\n",
      "|     3|   2090|   0.5|1306464261|   2090|Rescuers, The (1977)|Adventure|Animati...|\n",
      "|     3|   2105|   2.0|1306463559|   2105|         Tron (1982)|Action|Adventure|...|\n",
      "|     3|   2288|   4.0|1306463631|   2288|   Thing, The (1982)|Action|Horror|Sci...|\n",
      "+------+-------+------+----------+-------+--------------------+--------------------+\n",
      "only showing top 20 rows\n",
      "\n"
     ]
    },
    {
     "data": {
      "text/plain": [
       "[None, None, None]"
      ]
     },
     "execution_count": 7,
     "metadata": {},
     "output_type": "execute_result"
    }
   ],
   "source": [
    "[i.show() for i in search.search_users_movies([\"1\",\"2\",\"3\"])]"
   ]
  },
  {
   "cell_type": "markdown",
   "id": "alternative-endorsement",
   "metadata": {},
   "source": [
    "Search movie by id/title, show the average rating, the number of users that have watched the movie. Due to caching searching by ID runs faster the second time. This is not possible when searching by name as it may return more than one result."
   ]
  },
  {
   "cell_type": "code",
   "execution_count": 17,
   "id": "reasonable-school",
   "metadata": {},
   "outputs": [
    {
     "name": "stdout",
     "output_type": "stream",
     "text": [
      "+-------+-----------------+--------+--------------+\n",
      "|movieId|      avg(rating)|count(1)|         title|\n",
      "+-------+-----------------+--------+--------------+\n",
      "|      2|3.246582912721512|   27143|Jumanji (1995)|\n",
      "+-------+-----------------+--------+--------------+\n",
      "\n",
      "cached speed: 0:00:01.527202\n"
     ]
    }
   ],
   "source": [
    "search.search_movie(id=\"2\").show()"
   ]
  },
  {
   "cell_type": "code",
   "execution_count": 11,
   "id": "fixed-google",
   "metadata": {},
   "outputs": [
    {
     "name": "stdout",
     "output_type": "stream",
     "text": [
      "+-------+-----------------+--------+--------------------+\n",
      "|movieId|      avg(rating)|count(1)|               title|\n",
      "+-------+-----------------+--------+--------------------+\n",
      "| 179401|3.570336391437309|     981|Jumanji: Welcome ...|\n",
      "|      2|3.246582912721512|   27143|      Jumanji (1995)|\n",
      "+-------+-----------------+--------+--------------------+\n",
      "\n",
      "cached speed: 0:00:41.439315\n"
     ]
    }
   ],
   "source": [
    "search.search_movie(name=\"Toy Story\").show()"
   ]
  },
  {
   "cell_type": "markdown",
   "id": "practical-clearance",
   "metadata": {},
   "source": [
    "Search genre, show all movies in that genre"
   ]
  },
  {
   "cell_type": "code",
   "execution_count": 10,
   "id": "chubby-million",
   "metadata": {},
   "outputs": [
    {
     "name": "stdout",
     "output_type": "stream",
     "text": [
      "+-------+-----------------------------------------+----------------------------------+\n",
      "|movieId|title                                    |genres                            |\n",
      "+-------+-----------------------------------------+----------------------------------+\n",
      "|6      |Heat (1995)                              |Action|Crime|Thriller             |\n",
      "|9      |Sudden Death (1995)                      |Action                            |\n",
      "|10     |GoldenEye (1995)                         |Action|Adventure|Thriller         |\n",
      "|15     |Cutthroat Island (1995)                  |Action|Adventure|Romance          |\n",
      "|20     |Money Train (1995)                       |Action|Comedy|Crime|Drama|Thriller|\n",
      "|23     |Assassins (1995)                         |Action|Crime|Thriller             |\n",
      "|42     |Dead Presidents (1995)                   |Action|Crime|Drama                |\n",
      "|44     |Mortal Kombat (1995)                     |Action|Adventure|Fantasy          |\n",
      "|66     |Lawnmower Man 2: Beyond Cyberspace (1996)|Action|Sci-Fi|Thriller            |\n",
      "|70     |From Dusk Till Dawn (1996)               |Action|Comedy|Horror|Thriller     |\n",
      "+-------+-----------------------------------------+----------------------------------+\n",
      "only showing top 10 rows\n",
      "\n"
     ]
    }
   ],
   "source": [
    "search.search_genre(\"Action\").show(10,False)"
   ]
  },
  {
   "cell_type": "markdown",
   "id": "hispanic-impossible",
   "metadata": {},
   "source": [
    "Given a list of genres, search all movies belonging to each genre"
   ]
  },
  {
   "cell_type": "code",
   "execution_count": 11,
   "id": "provincial-firmware",
   "metadata": {},
   "outputs": [
    {
     "name": "stdout",
     "output_type": "stream",
     "text": [
      "+-------+-------------------+-------------------------+\n",
      "|movieId|title              |genres                   |\n",
      "+-------+-------------------+-------------------------+\n",
      "|6      |Heat (1995)        |Action|Crime|Thriller    |\n",
      "|9      |Sudden Death (1995)|Action                   |\n",
      "|10     |GoldenEye (1995)   |Action|Adventure|Thriller|\n",
      "+-------+-------------------+-------------------------+\n",
      "only showing top 3 rows\n",
      "\n",
      "+-------+------------------------+--------------------+\n",
      "|movieId|title                   |genres              |\n",
      "+-------+------------------------+--------------------+\n",
      "|3      |Grumpier Old Men (1995) |Comedy|Romance      |\n",
      "|4      |Waiting to Exhale (1995)|Comedy|Drama|Romance|\n",
      "|7      |Sabrina (1995)          |Comedy|Romance      |\n",
      "+-------+------------------------+--------------------+\n",
      "only showing top 3 rows\n",
      "\n"
     ]
    },
    {
     "data": {
      "text/plain": [
       "[None, None]"
      ]
     },
     "execution_count": 11,
     "metadata": {},
     "output_type": "execute_result"
    }
   ],
   "source": [
    "[i.show(3, False) for i in search.search_genres([\"Action\",\"Romance\"])]\n",
    "# search.search_genres([\"Action\",\"Romance\"]).show()"
   ]
  },
  {
   "cell_type": "markdown",
   "id": "atlantic-responsibility",
   "metadata": {},
   "source": [
    "Search movies by year"
   ]
  },
  {
   "cell_type": "code",
   "execution_count": 8,
   "id": "sharing-maximum",
   "metadata": {},
   "outputs": [
    {
     "name": "stdout",
     "output_type": "stream",
     "text": [
      "+-------+----------------------------------+-------------------------------------------+\n",
      "|movieId|title                             |genres                                     |\n",
      "+-------+----------------------------------+-------------------------------------------+\n",
      "|1      |Toy Story (1995)                  |Adventure|Animation|Children|Comedy|Fantasy|\n",
      "|2      |Jumanji (1995)                    |Adventure|Children|Fantasy                 |\n",
      "|3      |Grumpier Old Men (1995)           |Comedy|Romance                             |\n",
      "|4      |Waiting to Exhale (1995)          |Comedy|Drama|Romance                       |\n",
      "|5      |Father of the Bride Part II (1995)|Comedy                                     |\n",
      "|6      |Heat (1995)                       |Action|Crime|Thriller                      |\n",
      "|7      |Sabrina (1995)                    |Comedy|Romance                             |\n",
      "|8      |Tom and Huck (1995)               |Adventure|Children                         |\n",
      "|9      |Sudden Death (1995)               |Action                                     |\n",
      "|10     |GoldenEye (1995)                  |Action|Adventure|Thriller                  |\n",
      "+-------+----------------------------------+-------------------------------------------+\n",
      "only showing top 10 rows\n",
      "\n"
     ]
    }
   ],
   "source": [
    "search.search_movie_year(\"1995\").show(10,False)"
   ]
  },
  {
   "cell_type": "markdown",
   "id": "awful-permit",
   "metadata": {},
   "source": [
    "List the top n movies with highest rating, ordered by the rating"
   ]
  },
  {
   "cell_type": "code",
   "execution_count": 13,
   "id": "cultural-stream",
   "metadata": {},
   "outputs": [
    {
     "data": {
      "text/html": [
       "<div>\n",
       "<style scoped>\n",
       "    .dataframe tbody tr th:only-of-type {\n",
       "        vertical-align: middle;\n",
       "    }\n",
       "\n",
       "    .dataframe tbody tr th {\n",
       "        vertical-align: top;\n",
       "    }\n",
       "\n",
       "    .dataframe thead th {\n",
       "        text-align: right;\n",
       "    }\n",
       "</style>\n",
       "<table border=\"1\" class=\"dataframe\">\n",
       "  <thead>\n",
       "    <tr style=\"text-align: right;\">\n",
       "      <th></th>\n",
       "      <th>movieId</th>\n",
       "      <th>avg(rating)</th>\n",
       "      <th>watches</th>\n",
       "      <th>movieId</th>\n",
       "      <th>title</th>\n",
       "      <th>genres</th>\n",
       "    </tr>\n",
       "  </thead>\n",
       "  <tbody>\n",
       "    <tr>\n",
       "      <th>0</th>\n",
       "      <td>53</td>\n",
       "      <td>5.0</td>\n",
       "      <td>2</td>\n",
       "      <td>53</td>\n",
       "      <td>Lamerica (1994)</td>\n",
       "      <td>Adventure|Drama</td>\n",
       "    </tr>\n",
       "    <tr>\n",
       "      <th>1</th>\n",
       "      <td>78836</td>\n",
       "      <td>5.0</td>\n",
       "      <td>2</td>\n",
       "      <td>78836</td>\n",
       "      <td>Enter the Void (2009)</td>\n",
       "      <td>Drama</td>\n",
       "    </tr>\n",
       "    <tr>\n",
       "      <th>2</th>\n",
       "      <td>3473</td>\n",
       "      <td>5.0</td>\n",
       "      <td>2</td>\n",
       "      <td>3473</td>\n",
       "      <td>Jonah Who Will Be 25 in the Year 2000 (Jonas q...</td>\n",
       "      <td>Comedy</td>\n",
       "    </tr>\n",
       "    <tr>\n",
       "      <th>3</th>\n",
       "      <td>99</td>\n",
       "      <td>5.0</td>\n",
       "      <td>2</td>\n",
       "      <td>99</td>\n",
       "      <td>Heidi Fleiss: Hollywood Madam (1995)</td>\n",
       "      <td>Documentary</td>\n",
       "    </tr>\n",
       "    <tr>\n",
       "      <th>4</th>\n",
       "      <td>6442</td>\n",
       "      <td>5.0</td>\n",
       "      <td>2</td>\n",
       "      <td>6442</td>\n",
       "      <td>Belle époque (1992)</td>\n",
       "      <td>Comedy|Romance</td>\n",
       "    </tr>\n",
       "  </tbody>\n",
       "</table>\n",
       "</div>"
      ],
      "text/plain": [
       "  movieId  avg(rating)  watches movieId  \\\n",
       "0      53          5.0        2      53   \n",
       "1   78836          5.0        2   78836   \n",
       "2    3473          5.0        2    3473   \n",
       "3      99          5.0        2      99   \n",
       "4    6442          5.0        2    6442   \n",
       "\n",
       "                                               title           genres  \n",
       "0                                    Lamerica (1994)  Adventure|Drama  \n",
       "1                              Enter the Void (2009)            Drama  \n",
       "2  Jonah Who Will Be 25 in the Year 2000 (Jonas q...           Comedy  \n",
       "3               Heidi Fleiss: Hollywood Madam (1995)      Documentary  \n",
       "4                                Belle époque (1992)   Comedy|Romance  "
      ]
     },
     "execution_count": 13,
     "metadata": {},
     "output_type": "execute_result"
    }
   ],
   "source": [
    "search.list_rating(5)"
   ]
  },
  {
   "cell_type": "markdown",
   "id": "vocal-words",
   "metadata": {},
   "source": [
    "List the top n movies with the highest number of watches, ordered by the number of\n",
    "watches"
   ]
  },
  {
   "cell_type": "code",
   "execution_count": 14,
   "id": "wound-familiar",
   "metadata": {},
   "outputs": [
    {
     "data": {
      "text/html": [
       "<div>\n",
       "<style scoped>\n",
       "    .dataframe tbody tr th:only-of-type {\n",
       "        vertical-align: middle;\n",
       "    }\n",
       "\n",
       "    .dataframe tbody tr th {\n",
       "        vertical-align: top;\n",
       "    }\n",
       "\n",
       "    .dataframe thead th {\n",
       "        text-align: right;\n",
       "    }\n",
       "</style>\n",
       "<table border=\"1\" class=\"dataframe\">\n",
       "  <thead>\n",
       "    <tr style=\"text-align: right;\">\n",
       "      <th></th>\n",
       "      <th>movieId</th>\n",
       "      <th>watches</th>\n",
       "      <th>movieId</th>\n",
       "      <th>title</th>\n",
       "      <th>genres</th>\n",
       "    </tr>\n",
       "  </thead>\n",
       "  <tbody>\n",
       "    <tr>\n",
       "      <th>0</th>\n",
       "      <td>356</td>\n",
       "      <td>329</td>\n",
       "      <td>356</td>\n",
       "      <td>Forrest Gump (1994)</td>\n",
       "      <td>Comedy|Drama|Romance|War</td>\n",
       "    </tr>\n",
       "    <tr>\n",
       "      <th>1</th>\n",
       "      <td>318</td>\n",
       "      <td>317</td>\n",
       "      <td>318</td>\n",
       "      <td>Shawshank Redemption, The (1994)</td>\n",
       "      <td>Crime|Drama</td>\n",
       "    </tr>\n",
       "    <tr>\n",
       "      <th>2</th>\n",
       "      <td>296</td>\n",
       "      <td>307</td>\n",
       "      <td>296</td>\n",
       "      <td>Pulp Fiction (1994)</td>\n",
       "      <td>Comedy|Crime|Drama|Thriller</td>\n",
       "    </tr>\n",
       "    <tr>\n",
       "      <th>3</th>\n",
       "      <td>593</td>\n",
       "      <td>279</td>\n",
       "      <td>593</td>\n",
       "      <td>Silence of the Lambs, The (1991)</td>\n",
       "      <td>Crime|Horror|Thriller</td>\n",
       "    </tr>\n",
       "    <tr>\n",
       "      <th>4</th>\n",
       "      <td>2571</td>\n",
       "      <td>278</td>\n",
       "      <td>2571</td>\n",
       "      <td>Matrix, The (1999)</td>\n",
       "      <td>Action|Sci-Fi|Thriller</td>\n",
       "    </tr>\n",
       "  </tbody>\n",
       "</table>\n",
       "</div>"
      ],
      "text/plain": [
       "  movieId  watches movieId                             title  \\\n",
       "0     356      329     356               Forrest Gump (1994)   \n",
       "1     318      317     318  Shawshank Redemption, The (1994)   \n",
       "2     296      307     296               Pulp Fiction (1994)   \n",
       "3     593      279     593  Silence of the Lambs, The (1991)   \n",
       "4    2571      278    2571                Matrix, The (1999)   \n",
       "\n",
       "                        genres  \n",
       "0     Comedy|Drama|Romance|War  \n",
       "1                  Crime|Drama  \n",
       "2  Comedy|Crime|Drama|Thriller  \n",
       "3        Crime|Horror|Thriller  \n",
       "4       Action|Sci-Fi|Thriller  "
      ]
     },
     "execution_count": 14,
     "metadata": {},
     "output_type": "execute_result"
    }
   ],
   "source": [
    "search.list_watches(5)"
   ]
  },
  {
   "cell_type": "markdown",
   "id": "appreciated-romance",
   "metadata": {},
   "source": [
    "Find the favourite genre of a given user, or group of users. Consider and justify how\n",
    "you will define ‘favourite’."
   ]
  },
  {
   "cell_type": "code",
   "execution_count": 14,
   "id": "lesbian-organizer",
   "metadata": {},
   "outputs": [
    {
     "name": "stdout",
     "output_type": "stream",
     "text": [
      "+---------+------------------+-------+---+---+------------------+\n",
      "|genres   |avg(rating)       |watches|max|min|score             |\n",
      "+---------+------------------+-------+---+---+------------------+\n",
      "|Comedy   |3.75              |6      |7  |1  |3.125             |\n",
      "|Drama    |3.6666666666666665|6      |7  |1  |3.0555555555555554|\n",
      "|Thriller |2.642857142857143 |7      |7  |1  |2.642857142857143 |\n",
      "|Sci-Fi   |2.75              |6      |7  |1  |2.291666666666667 |\n",
      "|Action   |2.875             |4      |7  |1  |1.4375            |\n",
      "|Romance  |4.0               |2      |7  |1  |0.6666666666666666|\n",
      "|Crime    |3.0               |2      |7  |1  |0.5               |\n",
      "|Horror   |2.25              |2      |7  |1  |0.375             |\n",
      "|Adventure|1.5               |1      |7  |1  |0.0               |\n",
      "|Western  |4.0               |1      |7  |1  |0.0               |\n",
      "+---------+------------------+-------+---+---+------------------+\n",
      "only showing top 10 rows\n",
      "\n"
     ]
    }
   ],
   "source": [
    "search.search_user_favourites(\"1\").show(10,False)"
   ]
  },
  {
   "cell_type": "markdown",
   "id": "referenced-hungarian",
   "metadata": {},
   "source": [
    "Compare the movie tastes of two users. Consider and justify how you will compare\n",
    "and present the data."
   ]
  },
  {
   "cell_type": "code",
   "execution_count": 7,
   "id": "black-physiology",
   "metadata": {},
   "outputs": [
    {
     "name": "stdout",
     "output_type": "stream",
     "text": [
      "+------------------+\n",
      "|        similarity|\n",
      "+------------------+\n",
      "|0.0689655172413793|\n",
      "+------------------+\n",
      "\n",
      "+-------------------+\n",
      "|         similarity|\n",
      "+-------------------+\n",
      "|0.18584186905960595|\n",
      "+-------------------+\n",
      "\n",
      "+----------+\n",
      "|similarity|\n",
      "+----------+\n",
      "|       1.0|\n",
      "+----------+\n",
      "\n"
     ]
    }
   ],
   "source": [
    "search.compare_users(\"1\", \"2\").show()\n",
    "\n",
    "search.compare_users(\"477\", \"610\").show()\n",
    "\n",
    "search.compare_users(\"1\", \"1\").show()"
   ]
  },
  {
   "cell_type": "code",
   "execution_count": 15,
   "id": "changing-macro",
   "metadata": {
    "collapsed": true,
    "jupyter": {
     "outputs_hidden": true
    }
   },
   "outputs": [
    {
     "data": {
      "image/png": "[encoded data removed]",
      "text/plain": [
       "<Figure size 1440x1440 with 2 Axes>"
      ]
     },
     "metadata": {
      "needs_background": "light"
     },
     "output_type": "display_data"
    }
   ],
   "source": [
    "plotting.gen_user_report(\"1\")"
   ]
  },
  {
   "cell_type": "markdown",
   "id": "uniform-separation",
   "metadata": {},
   "source": [
    "Plot the most watched movies in a given year"
   ]
  },
  {
   "cell_type": "code",
   "execution_count": 9,
   "id": "blessed-potential",
   "metadata": {},
   "outputs": [
    {
     "data": {
      "image/png": "[encoded data removed]",
      "text/plain": [
       "<Figure size 1440x720 with 1 Axes>"
      ]
     },
     "metadata": {
      "needs_background": "light"
     },
     "output_type": "display_data"
    }
   ],
   "source": [
    "plotting.generic_plot(search.filter_year(\"1995\", 10,\"watches\"), 'watches')"
   ]
  },
  {
   "cell_type": "markdown",
   "id": "administrative-thanksgiving",
   "metadata": {},
   "source": [
    "Plot the most watched movies in a given decade"
   ]
  },
  {
   "cell_type": "code",
   "execution_count": 11,
   "id": "academic-swiss",
   "metadata": {
    "collapsed": true,
    "jupyter": {
     "outputs_hidden": true
    }
   },
   "outputs": [
    {
     "data": {
      "image/png": "[encoded data removed]",
      "text/plain": [
       "<Figure size 1440x720 with 1 Axes>"
      ]
     },
     "metadata": {
      "needs_background": "light"
     },
     "output_type": "display_data"
    }
   ],
   "source": [
    "plotting.generic_plot(search.filter_decade(\"199\", 10,\"watches\"), 'watches')"
   ]
  },
  {
   "cell_type": "markdown",
   "id": "different-dress",
   "metadata": {},
   "source": [
    "Plot the most watched movies of each decade"
   ]
  },
  {
   "cell_type": "code",
   "execution_count": null,
   "id": "pleased-oregon",
   "metadata": {},
   "outputs": [],
   "source": [
    "plotting.generic_plot(search.top_each_decade('watches'), 'watches')"
   ]
  },
  {
   "cell_type": "markdown",
   "id": "powered-invasion",
   "metadata": {},
   "source": [
    "Plot the most watched movies of all time"
   ]
  },
  {
   "cell_type": "code",
   "execution_count": null,
   "id": "experienced-genome",
   "metadata": {},
   "outputs": [],
   "source": [
    "plotting.generic_plot(search.list_watches(10), 'watches')"
   ]
  },
  {
   "cell_type": "markdown",
   "id": "several-ambassador",
   "metadata": {},
   "source": [
    "Plot the highest rated movies in a given year"
   ]
  },
  {
   "cell_type": "code",
   "execution_count": null,
   "id": "patent-building",
   "metadata": {
    "collapsed": true,
    "jupyter": {
     "outputs_hidden": true
    }
   },
   "outputs": [],
   "source": [
    "plotting.generic_plot(search.filter_year(\"1995\", 10,\"avg(rating)\"),'avg(rating)')"
   ]
  },
  {
   "cell_type": "markdown",
   "id": "critical-heath",
   "metadata": {},
   "source": [
    "Plot the highest rated movies in a given decade"
   ]
  },
  {
   "cell_type": "code",
   "execution_count": null,
   "id": "christian-stylus",
   "metadata": {
    "collapsed": true,
    "jupyter": {
     "outputs_hidden": true
    }
   },
   "outputs": [],
   "source": [
    "plotting.generic_plot(search.filter_decade(\"199\", 10,\"avg(rating)\"),avg(rating))"
   ]
  },
  {
   "cell_type": "markdown",
   "id": "altered-spelling",
   "metadata": {},
   "source": [
    "Plot the highest rated movies of each decade"
   ]
  },
  {
   "cell_type": "code",
   "execution_count": null,
   "id": "developed-holiday",
   "metadata": {
    "collapsed": true,
    "jupyter": {
     "outputs_hidden": true
    }
   },
   "outputs": [],
   "source": [
    "plotting.generic_plot(search.top_each_decade('avg(rating)'),avg(rating))"
   ]
  },
  {
   "cell_type": "markdown",
   "id": "moved-calendar",
   "metadata": {},
   "source": [
    "Plot the highest rated movies of all time"
   ]
  },
  {
   "cell_type": "code",
   "execution_count": null,
   "id": "interesting-closing",
   "metadata": {},
   "outputs": [],
   "source": [
    "plotting.generic_plot(search.list_rating(10))"
   ]
  },
  {
   "cell_type": "code",
   "execution_count": null,
   "id": "boring-whale",
   "metadata": {},
   "outputs": [],
   "source": [
    "plotting.gen_movie_wordcloud(\"Pulp Fiction\")"
   ]
  },
  {
   "cell_type": "markdown",
   "id": "focused-thriller",
   "metadata": {
    "pycharm": {
     "name": "#%% md\n"
    }
   },
   "source": [
    "Recommend movies for a set of users"
   ]
  },
  {
   "cell_type": "code",
   "execution_count": null,
   "id": "moral-moldova",
   "metadata": {
    "collapsed": false,
    "jupyter": {
     "outputs_hidden": false
    },
    "pycharm": {
     "name": "#%%\n"
    }
   },
   "outputs": [],
   "source": [
    "search.recommend_n_movies_for_users(5, [\"1\", \"3\", \"47\", \"235\"]).show(truncate=False)"
   ]
  },
  {
   "cell_type": "code",
   "execution_count": null,
   "id": "occupational-virtue",
   "metadata": {
    "collapsed": false,
    "jupyter": {
     "outputs_hidden": false
    },
    "pycharm": {
     "name": "#%%\n"
    }
   },
   "outputs": [],
   "source": [
    "search.recommend_n_movies_for_users(5, [\"1\"]).show(truncate=False)\n"
   ]
  },
  {
   "cell_type": "code",
   "execution_count": 6,
   "id": "dietary-cotton",
   "metadata": {},
   "outputs": [
    {
     "name": "stdout",
     "output_type": "stream",
     "text": [
      "609\n"
     ]
    },
    {
     "ename": "TypeError",
     "evalue": "'<' not supported between instances of 'NoneType' and 'float'",
     "output_type": "error",
     "traceback": [
      "\u001b[0;31m---------------------------------------------------------------------------\u001b[0m",
      "\u001b[0;31mTypeError\u001b[0m                                 Traceback (most recent call last)",
      "\u001b[0;32m<ipython-input-6-de9beede8811>\u001b[0m in \u001b[0;36m<module>\u001b[0;34m\u001b[0m\n\u001b[0;32m----> 1\u001b[0;31m \u001b[0msearch\u001b[0m\u001b[0;34m.\u001b[0m\u001b[0mcluster\u001b[0m\u001b[0;34m(\u001b[0m\u001b[0;34m\"477\"\u001b[0m\u001b[0;34m,\u001b[0m \u001b[0;36m2\u001b[0m\u001b[0;34m)\u001b[0m\u001b[0;34m\u001b[0m\u001b[0;34m\u001b[0m\u001b[0m\n\u001b[0m",
      "\u001b[0;32m~/cs5052/Spark/search.py\u001b[0m in \u001b[0;36mcluster\u001b[0;34m(self, user, n)\u001b[0m\n\u001b[1;32m    325\u001b[0m \u001b[0;34m\u001b[0m\u001b[0m\n\u001b[1;32m    326\u001b[0m         \u001b[0;31m# for each user in users, get their similarity score to user, order by similarity score, limit n\u001b[0m\u001b[0;34m\u001b[0m\u001b[0;34m\u001b[0m\u001b[0;34m\u001b[0m\u001b[0m\n\u001b[0;32m--> 327\u001b[0;31m         \u001b[0;32mreturn\u001b[0m \u001b[0msorted\u001b[0m\u001b[0;34m(\u001b[0m\u001b[0;34m[\u001b[0m\u001b[0;34m(\u001b[0m\u001b[0mi\u001b[0m\u001b[0;34m,\u001b[0m \u001b[0mself\u001b[0m\u001b[0;34m.\u001b[0m\u001b[0mcompare_users\u001b[0m\u001b[0;34m(\u001b[0m\u001b[0muser\u001b[0m\u001b[0;34m,\u001b[0m \u001b[0mi\u001b[0m\u001b[0;34m)\u001b[0m\u001b[0;34m.\u001b[0m\u001b[0mfirst\u001b[0m\u001b[0;34m(\u001b[0m\u001b[0;34m)\u001b[0m\u001b[0;34m[\u001b[0m\u001b[0;36m0\u001b[0m\u001b[0;34m]\u001b[0m\u001b[0;34m)\u001b[0m \u001b[0;32mfor\u001b[0m \u001b[0mi\u001b[0m \u001b[0;32min\u001b[0m \u001b[0musers_pd\u001b[0m\u001b[0;34m]\u001b[0m\u001b[0;34m,\u001b[0m \u001b[0mkey\u001b[0m\u001b[0;34m=\u001b[0m\u001b[0;32mlambda\u001b[0m \u001b[0mx\u001b[0m\u001b[0;34m:\u001b[0m \u001b[0mx\u001b[0m\u001b[0;34m[\u001b[0m\u001b[0;36m1\u001b[0m\u001b[0;34m]\u001b[0m\u001b[0;34m,\u001b[0m \u001b[0mreverse\u001b[0m\u001b[0;34m=\u001b[0m\u001b[0;32mTrue\u001b[0m\u001b[0;34m)\u001b[0m\u001b[0;34m[\u001b[0m\u001b[0;34m:\u001b[0m\u001b[0mn\u001b[0m\u001b[0;34m]\u001b[0m\u001b[0;34m\u001b[0m\u001b[0;34m\u001b[0m\u001b[0m\n\u001b[0m",
      "\u001b[0;31mTypeError\u001b[0m: '<' not supported between instances of 'NoneType' and 'float'"
     ]
    }
   ],
   "source": [
    "search.cluster(\"477\", 2)"
   ]
  },
  {
   "cell_type": "code",
   "execution_count": null,
   "id": "favorite-firmware",
   "metadata": {},
   "outputs": [],
   "source": []
  }
 ],
 "metadata": {
  "kernelspec": {
   "display_name": "Python 3",
   "language": "python",
   "name": "python3"
  },
  "language_info": {
   "codemirror_mode": {
    "name": "ipython",
    "version": 3
   },
   "file_extension": ".py",
   "mimetype": "text/x-python",
   "name": "python",
   "nbconvert_exporter": "python",
   "pygments_lexer": "ipython3",
   "version": "3.7.5"
  }
 },
 "nbformat": 4,
 "nbformat_minor": 5
}
